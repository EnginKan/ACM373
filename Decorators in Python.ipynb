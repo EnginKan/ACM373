{
 "cells": [
  {
   "cell_type": "markdown",
   "metadata": {},
   "source": [
    "## First Class Functions"
   ]
  },
  {
   "cell_type": "markdown",
   "metadata": {},
   "source": [
    "In computer science, a programming language is said to have __first-class functions__ if it treats functions __as first-class citizens.__\n",
    "\n",
    "This means the language supports passing functions __as arguments to other functions, returning them as the values from other functions, and assigning them to variables or storing them in data structures.__\n",
    "\n",
    "First-class functions are a necessity for the functional programming style, in which the use of __higher-order functions__ is a standard practice. \n",
    "\n",
    "A simple example of a higher-ordered function is the __map__ function, which takes, as its arguments, a function and a list, and returns the list formed by applying the function to each member of the list. For a language to support map, it must support __passing a function as an argument__.\n",
    "\n",
    "Let us look at the follwing example:"
   ]
  },
  {
   "cell_type": "code",
   "execution_count": 5,
   "metadata": {},
   "outputs": [
    {
     "name": "stdout",
     "output_type": "stream",
     "text": [
      "25\n"
     ]
    }
   ],
   "source": [
    "def square(x):\n",
    "    return x*x\n",
    "\n",
    "y=square(5)\n",
    "print(y)"
   ]
  },
  {
   "cell_type": "code",
   "execution_count": 7,
   "metadata": {},
   "outputs": [
    {
     "name": "stdout",
     "output_type": "stream",
     "text": [
      "<function square at 0x000000A926FA5B88>\n",
      "25\n"
     ]
    }
   ],
   "source": [
    "y=square\n",
    "print(y)\n",
    "print(y(5))"
   ]
  },
  {
   "cell_type": "markdown",
   "metadata": {},
   "source": [
    "In python, functions, themselves, threated as an object(Everyting in python is object)"
   ]
  },
  {
   "cell_type": "code",
   "execution_count": 8,
   "metadata": {},
   "outputs": [
    {
     "name": "stdout",
     "output_type": "stream",
     "text": [
      "Summation: 8\n",
      "Multiplication: 15\n"
     ]
    }
   ],
   "source": [
    "def summation(a,b):\n",
    "    return a+b\n",
    "\n",
    "def multiplication(a,b):\n",
    "    return a*b\n",
    "\n",
    "def calculate(func,a,b):\n",
    "    return func(a,b)\n",
    "\n",
    "print('Summation:',calculate(summation,3,5))\n",
    "print('Multiplication:',calculate(multiplication,3,5))\n"
   ]
  },
  {
   "cell_type": "code",
   "execution_count": 10,
   "metadata": {},
   "outputs": [
    {
     "name": "stdout",
     "output_type": "stream",
     "text": [
      "<function outer_func.<locals>.inner_function at 0x000000A926FBA168>\n"
     ]
    },
    {
     "data": {
      "text/plain": [
       "'Message is :Hii'"
      ]
     },
     "execution_count": 10,
     "metadata": {},
     "output_type": "execute_result"
    }
   ],
   "source": [
    "def outer_func():\n",
    "    message=\"Hii\"\n",
    "    def inner_function():\n",
    "        return 'Message is :{}'.format(message)\n",
    "    return inner_function\n",
    "\n",
    "y=outer_func()\n",
    "print(y)\n",
    "y()\n"
   ]
  },
  {
   "cell_type": "markdown",
   "metadata": {},
   "source": [
    "__Higher order function:__ A function that accepts another founction as an argument and/or return another function.\n",
    "\n",
    "\n",
    "Let us write a higher order function with name __my_mapping__ which accepts two arguments: function and list. This function returns another list whose elements are values proccessed by the give argument function."
   ]
  },
  {
   "cell_type": "code",
   "execution_count": 12,
   "metadata": {},
   "outputs": [
    {
     "name": "stdout",
     "output_type": "stream",
     "text": [
      "[1, 27, 64, 125, 216]\n",
      "[1, 9, 16, 25, 36]\n"
     ]
    }
   ],
   "source": [
    "def cube(x):\n",
    "    return x*x*x\n",
    "\n",
    "def my_mapping(func,arg_list):\n",
    "    result=[]\n",
    "    for item in arg_list:\n",
    "        result.append(func(item))\n",
    "    return result\n",
    "\n",
    "list1=[1,3,4,5,6]\n",
    "print(my_mapping(cube,list1))\n",
    "print(my_mapping(square,list1))"
   ]
  },
  {
   "cell_type": "markdown",
   "metadata": {},
   "source": [
    "As another example, let us write simple logger function wihch returns another function."
   ]
  },
  {
   "cell_type": "code",
   "execution_count": 18,
   "metadata": {},
   "outputs": [
    {
     "name": "stdout",
     "output_type": "stream",
     "text": [
      "<function html_tag.<locals>.wrap_text at 0x000000A928DBF798>\n"
     ]
    }
   ],
   "source": [
    "def html_tag(tag):\n",
    "    \n",
    "    def wrap_text(msg):\n",
    "        return '<{0}>{1}</{0}>'.format(tag,msg)\n",
    "    \n",
    "    return wrap_text\n",
    "\n",
    "print_h1=html_tag('H1')\n",
    "print_h2=html_tag('H2')\n",
    "print(print_h1)"
   ]
  },
  {
   "cell_type": "code",
   "execution_count": 20,
   "metadata": {},
   "outputs": [
    {
     "data": {
      "text/plain": [
       "'<H1>Hii this the first text</H1>'"
      ]
     },
     "execution_count": 20,
     "metadata": {},
     "output_type": "execute_result"
    }
   ],
   "source": [
    "print_h2('Hii this the first text')\n",
    "print_h2('Hii this the first text')\n",
    "print_h1('Hii this the first text')\n"
   ]
  },
  {
   "cell_type": "markdown",
   "metadata": {},
   "source": [
    "## Closure\n",
    "\n",
    "In programming languages, __a closure__, also lexical closure or function closure, is a technique for implementing lexically scoped name binding in a language with first-class functions. \n",
    "\n",
    "Operationally, a closure is a __record storing a function together with an environment__.\n",
    "\n",
    "The environment is a mapping associating each free variable of the function (variables that are used locally, but defined in an enclosing scope) with the value or reference to which the name was bound when the closure was created.\n",
    "\n",
    "Unlike a plain function, a closure allows the function to access those captured variables through the closure's copies of their values or references, even when the function is invoked outside their scope."
   ]
  },
  {
   "cell_type": "code",
   "execution_count": 23,
   "metadata": {},
   "outputs": [
    {
     "name": "stdout",
     "output_type": "stream",
     "text": [
      "Hii\n"
     ]
    }
   ],
   "source": [
    "def outer_func():\n",
    "    message=\"Hii\"\n",
    "    def inner_func():\n",
    "        print(message)\n",
    "    return inner_func\n",
    "\n",
    "my_func=outer_func()\n",
    "my_func()"
   ]
  },
  {
   "cell_type": "code",
   "execution_count": 26,
   "metadata": {},
   "outputs": [
    {
     "name": "stdout",
     "output_type": "stream",
     "text": [
      "Hii\n",
      "Byee\n",
      "Hii\n",
      "Byee\n"
     ]
    }
   ],
   "source": [
    "def outer_func(msg):\n",
    "    message=msg\n",
    "    def inner_func():\n",
    "        print(message)\n",
    "    return inner_func\n",
    "\n",
    "say_hi=outer_func('Hii')\n",
    "say_bye=outer_func('Byee')\n",
    "\n",
    "say_hi()\n",
    "say_bye()\n",
    "say_hi()\n",
    "say_bye()"
   ]
  },
  {
   "cell_type": "code",
   "execution_count": 29,
   "metadata": {},
   "outputs": [
    {
     "name": "stdout",
     "output_type": "stream",
     "text": [
      "<function logger.<locals>.log_func at 0x000000A92965C948>\n",
      "8\n",
      "15\n"
     ]
    }
   ],
   "source": [
    "import logging\n",
    "logging.basicConfig(filename='example.log', level=logging.INFO)\n",
    "\n",
    "def  logger(func):\n",
    "    def log_func(*args):\n",
    "        logging.info('Runnig {} with arguments {}'.format(func.__name__,args))\n",
    "        print(func(*args))\n",
    "    \n",
    "    return log_func\n",
    "\n",
    "add_logger=logger(summation)\n",
    "multp_logger=logger(multiplication)\n",
    "\n",
    "print(add_logger)\n",
    "\n",
    "add_logger(4,4)\n",
    "multp_logger(3,5)"
   ]
  },
  {
   "cell_type": "markdown",
   "metadata": {},
   "source": [
    "## Decorators\n",
    "\n",
    "Decorators are a significant part of Python. In simple words: they are functions which modify the functionality of other functions. They help to make our code shorter and more Pythonic."
   ]
  },
  {
   "cell_type": "code",
   "execution_count": 34,
   "metadata": {},
   "outputs": [
    {
     "name": "stdout",
     "output_type": "stream",
     "text": [
      "Before callingfoo\n",
      "Hii, foo is called with 4\n",
      "After callingfoo\n"
     ]
    }
   ],
   "source": [
    "def out_decorator(func):\n",
    "    def function_wrapper(x):\n",
    "        print('Before calling'+func.__name__)\n",
    "        func(x)\n",
    "        print('After calling'+func.__name__)\n",
    "    return function_wrapper\n",
    "\n",
    "def foo(x):\n",
    "    print('Hii, foo is called with '+str(x))\n",
    "    \n",
    "foo_dec=out_decorator(foo)\n",
    "foo_dec(4)"
   ]
  },
  {
   "cell_type": "code",
   "execution_count": 39,
   "metadata": {},
   "outputs": [
    {
     "name": "stdout",
     "output_type": "stream",
     "text": [
      "Before callingfoo\n",
      "Hii, foo is called with 4\n",
      "None\n",
      "After callingfoo\n",
      "Before callingsuccess\n",
      "11\n",
      "After callingsuccess\n"
     ]
    }
   ],
   "source": [
    "def out_decorator(func):\n",
    "    def function_wrapper(x):\n",
    "        print('Before calling'+func.__name__)\n",
    "        print(func(x))\n",
    "        print('After calling'+func.__name__)\n",
    "    return function_wrapper\n",
    "\n",
    "@out_decorator\n",
    "def foo(x):\n",
    "    print('Hii, foo is called with '+str(x))\n",
    "    \n",
    "@out_decorator\n",
    "def success(n):\n",
    "    return n+1\n",
    "        \n",
    "foo(4)\n",
    "success(10)"
   ]
  },
  {
   "cell_type": "markdown",
   "metadata": {},
   "source": [
    "It is also possible to decorate third party functions sch as founction we import from a module."
   ]
  },
  {
   "cell_type": "code",
   "execution_count": 52,
   "metadata": {},
   "outputs": [
    {
     "name": "stdout",
     "output_type": "stream",
     "text": [
      "Before callingsin\n",
      "9.265358966049026e-05\n",
      "After callingsin\n",
      "Before callingcos\n",
      "-0.9999999957076562\n",
      "After callingcos\n"
     ]
    }
   ],
   "source": [
    "from math import sin,cos\n",
    "\n",
    "def my_decorator(func):\n",
    "    def function_wrapper(x):\n",
    "        print('Before calling'+func.__name__)\n",
    "        print(func(x))\n",
    "        print('After calling'+func.__name__)\n",
    "    return function_wrapper\n",
    "        \n",
    "    \n",
    "sin_new=my_decorator(sin)\n",
    "cos_new=my_decorator(cos)\n",
    "for f in [sin_new,cos_new]:\n",
    "    f(3.1415)\n"
   ]
  },
  {
   "cell_type": "markdown",
   "metadata": {},
   "source": [
    "# Class Decorator(s)"
   ]
  },
  {
   "cell_type": "code",
   "execution_count": 54,
   "metadata": {},
   "outputs": [
    {
     "name": "stdout",
     "output_type": "stream",
     "text": [
      "<__main__.decorator_class object at 0x000000A9296B8148>\n"
     ]
    }
   ],
   "source": [
    "class decorator_class(object):\n",
    "    \n",
    "    def __init__(self,original_function):\n",
    "        self.original_function=original_function\n",
    "        \n",
    "    def __call__(self,x):\n",
    "        print('Before calling '+self.original_function.__name__)\n",
    "        print(self.original_function(x))\n",
    "        print('After calling '+self.original_function.__name__) \n",
    "\n",
    "y=decorator_class(sin)\n",
    "print(y)"
   ]
  },
  {
   "cell_type": "code",
   "execution_count": 55,
   "metadata": {},
   "outputs": [
    {
     "name": "stdout",
     "output_type": "stream",
     "text": [
      "Before calling sin\n",
      "0.0015926529164868282\n",
      "After calling sin\n"
     ]
    }
   ],
   "source": [
    "y(3.14)"
   ]
  },
  {
   "cell_type": "markdown",
   "metadata": {},
   "source": [
    "If we do no not know number of arguments to run the decorated functionm is not known."
   ]
  },
  {
   "cell_type": "markdown",
   "metadata": {},
   "source": [
    "If your wrapped function has varaible length parameter list"
   ]
  },
  {
   "cell_type": "code",
   "execution_count": 66,
   "metadata": {},
   "outputs": [],
   "source": [
    "def decorator_func(func):\n",
    "    def wrapper(*args,**kwargs):\n",
    "        print('call method before {0} and paramlist args:{1}, kwargs:{2}'.format(func.__name__,args, kwargs))\n",
    "        print(func(*args,**kwargs))\n",
    "        \n",
    "    return wrapper"
   ]
  },
  {
   "cell_type": "code",
   "execution_count": 68,
   "metadata": {},
   "outputs": [
    {
     "name": "stdout",
     "output_type": "stream",
     "text": [
      "call method before add and paramlist args:(4, 5), kwargs:{}\n",
      "9\n",
      "call method before add3 and paramlist args:(5, 12, 1), kwargs:{}\n",
      "18\n"
     ]
    }
   ],
   "source": [
    "@decorator_func\n",
    "def add(a,b):\n",
    "    return a+b\n",
    "\n",
    "@decorator_func\n",
    "def add3(a,b,c):\n",
    "    return a+b+c\n",
    "\n",
    "add(4,5)\n",
    "add3(5,12,1)"
   ]
  },
  {
   "cell_type": "code",
   "execution_count": 83,
   "metadata": {},
   "outputs": [
    {
     "data": {
      "text/plain": [
       "49"
      ]
     },
     "execution_count": 83,
     "metadata": {},
     "output_type": "execute_result"
    }
   ],
   "source": [
    "# first Example : looger decorator\n",
    "from functools import wraps\n",
    "def my_logger(orig_func):\n",
    "    import logging \n",
    "    logging.basicConfig(filename='{}.log'.format(orig_func.__name__),\n",
    "                       level=logging.INFO)\n",
    "    @wraps(orig_func)\n",
    "    def wrapper(*args,**kwargs):\n",
    "        logging.info(\n",
    "        'Ran with args:{} and kwargs:{}'.format(args,kwargs))\n",
    "        return orig_func(*args,**kwargs)\n",
    "    \n",
    "    return wrapper\n",
    "\n",
    "@my_logger\n",
    "def add(a,b):\n",
    "    return a+b\n",
    "\n",
    "\n",
    "add(4,5)\n",
    "add(12,4)\n",
    "add(44,5)"
   ]
  },
  {
   "cell_type": "code",
   "execution_count": 72,
   "metadata": {},
   "outputs": [
    {
     "data": {
      "text/plain": [
       "49"
      ]
     },
     "execution_count": 72,
     "metadata": {},
     "output_type": "execute_result"
    }
   ],
   "source": [
    "add(44,5)"
   ]
  },
  {
   "cell_type": "code",
   "execution_count": null,
   "metadata": {},
   "outputs": [],
   "source": [
    "orig_add=add.__wrapped__"
   ]
  },
  {
   "cell_type": "code",
   "execution_count": 84,
   "metadata": {},
   "outputs": [
    {
     "name": "stdout",
     "output_type": "stream",
     "text": [
      "display_info ran with argumets Engin 32\n",
      "display_info ran in :1.000856637954712 seconds\n"
     ]
    }
   ],
   "source": [
    "\n",
    "\n",
    "def my_timer(orig_func):\n",
    "    import time\n",
    "    @wraps(orig_func)\n",
    "    def wrapper(*args, **kwargs):\n",
    "        t1=time.time()\n",
    "        result=orig_func(*args,**kwargs)\n",
    "        t2=time.time()-t1\n",
    "        print('{} ran in :{} seconds'.format(orig_func.__name__,t2))\n",
    "        return result\n",
    "    \n",
    "    return wrapper\n",
    "\n",
    "import time\n",
    "@my_logger\n",
    "@my_timer\n",
    "def display_info(name,age):\n",
    "    time.sleep(1)\n",
    "    print('display_info ran with argumets {} {}'.format(name,age))\n",
    "    \n",
    "#decorated=my_logger(my_timer(display_info))\n",
    "\n",
    "#decorated('Engin',32)\n",
    "display_info('Engin',32)"
   ]
  },
  {
   "cell_type": "markdown",
   "metadata": {},
   "source": [
    "__To Preser Function Metadata when writing decorators use wraps annotacion inside functools"
   ]
  },
  {
   "cell_type": "code",
   "execution_count": 85,
   "metadata": {},
   "outputs": [
    {
     "data": {
      "text/plain": [
       "'display_info'"
      ]
     },
     "execution_count": 85,
     "metadata": {},
     "output_type": "execute_result"
    }
   ],
   "source": [
    "display_info.__name__"
   ]
  },
  {
   "cell_type": "code",
   "execution_count": 86,
   "metadata": {},
   "outputs": [],
   "source": [
    "display_info.__doc__"
   ]
  },
  {
   "cell_type": "code",
   "execution_count": 87,
   "metadata": {},
   "outputs": [
    {
     "data": {
      "text/plain": [
       "{}"
      ]
     },
     "execution_count": 87,
     "metadata": {},
     "output_type": "execute_result"
    }
   ],
   "source": [
    "display_info.__annotations__"
   ]
  },
  {
   "cell_type": "code",
   "execution_count": null,
   "metadata": {},
   "outputs": [],
   "source": []
  }
 ],
 "metadata": {
  "kernelspec": {
   "display_name": "Python 3",
   "language": "python",
   "name": "python3"
  },
  "language_info": {
   "codemirror_mode": {
    "name": "ipython",
    "version": 3
   },
   "file_extension": ".py",
   "mimetype": "text/x-python",
   "name": "python",
   "nbconvert_exporter": "python",
   "pygments_lexer": "ipython3",
   "version": "3.7.6"
  }
 },
 "nbformat": 4,
 "nbformat_minor": 4
}
