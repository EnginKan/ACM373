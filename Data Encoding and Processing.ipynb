{
 "cells": [
  {
   "cell_type": "markdown",
   "metadata": {},
   "source": [
    "In this lecture,we try to process data presented in differentkinds of common encodings, such as CSV files, JSON, XML using Python. Unlike the lectures on data structures, this chapter is not focused on specific algorithms, but instead on the problem of getting data in and out of a program."
   ]
  },
  {
   "cell_type": "markdown",
   "metadata": {},
   "source": [
    "## Reading and Writing CSV Data\n",
    "\n",
    "You want to read or write data encoded as a CSV file. For most kinds of CSV data, use the csv library. For example, suppose you have some stock market data in a file named data.csv"
   ]
  },
  {
   "cell_type": "code",
   "execution_count": 38,
   "metadata": {},
   "outputs": [
    {
     "name": "stdout",
     "output_type": "stream",
     "text": [
      "<class 'str'>\n",
      "<class 'str'>\n",
      "<class 'str'>\n",
      "<class 'str'>\n",
      "<class 'str'>\n",
      "<class 'str'>\n"
     ]
    }
   ],
   "source": [
    "import csv\n",
    "with open('data.csv') as f:\n",
    "    f_csv = csv.reader(f)\n",
    "    headers = next(f_csv)\n",
    "    #print(headers[1])\n",
    "    for row in f_csv:\n",
    "        print(type(row[1]))"
   ]
  },
  {
   "cell_type": "markdown",
   "metadata": {},
   "source": [
    "If you do not want use indexes to reach specific column in given csv file, you have an alternative way:"
   ]
  },
  {
   "cell_type": "code",
   "execution_count": 23,
   "metadata": {},
   "outputs": [
    {
     "name": "stdout",
     "output_type": "stream",
     "text": [
      "Row(Symbol='AA', Price='39.48', Date='6/11/2007', Time='9:36am', Change='-0.18', Volume='181800')\n",
      "Row(Symbol='AIG', Price='71.38', Date='6/11/2007', Time='9:36am', Change='-0.15', Volume='195500')\n",
      "Row(Symbol='AXP', Price='62.58', Date='6/11/2007', Time='9:36am', Change='-0.46', Volume='935000')\n",
      "Row(Symbol='BA', Price='98.31', Date='6/11/2007', Time='9:36am', Change='+0.12', Volume='104800')\n",
      "Row(Symbol='C', Price='53.08', Date='6/11/2007', Time='9:36am', Change='-0.25', Volume='360900')\n",
      "Row(Symbol='CAT', Price='78.29', Date='6/11/2007', Time='9:36am', Change='-0.23', Volume='225400')\n"
     ]
    }
   ],
   "source": [
    "from collections import namedtuple\n",
    "with open('data.csv') as f:\n",
    "    f_csv=csv.reader(f)\n",
    "    #headings is columns names\n",
    "    headings=next(f_csv)\n",
    "    Row=namedtuple('Row',headings)\n",
    "    for r in f_csv:\n",
    "        row=Row(*r)\n",
    "        print(row)"
   ]
  },
  {
   "cell_type": "markdown",
   "metadata": {},
   "source": [
    "Another alternative to read th data as a sequennce of dictionries. To do that we have another object inside csv module __DictReader()__."
   ]
  },
  {
   "cell_type": "code",
   "execution_count": 21,
   "metadata": {},
   "outputs": [
    {
     "name": "stdout",
     "output_type": "stream",
     "text": [
      "181800\n",
      "195500\n",
      "935000\n",
      "104800\n",
      "360900\n",
      "225400\n"
     ]
    }
   ],
   "source": [
    "with open('data.csv') as f:\n",
    "    f_csv=csv.DictReader(f)\n",
    "    for row in f_csv:\n",
    "        print(row['Volume'])"
   ]
  },
  {
   "cell_type": "markdown",
   "metadata": {},
   "source": [
    "### How to write data into csv file"
   ]
  },
  {
   "cell_type": "code",
   "execution_count": 22,
   "metadata": {},
   "outputs": [
    {
     "data": {
      "text/plain": [
       "['Symbol', 'Price', 'Date', 'Time', 'Change', 'Volume']"
      ]
     },
     "execution_count": 22,
     "metadata": {},
     "output_type": "execute_result"
    }
   ],
   "source": [
    "headers"
   ]
  },
  {
   "cell_type": "code",
   "execution_count": 25,
   "metadata": {},
   "outputs": [],
   "source": [
    "rows=[['AA', '39.48', '6/11/2007', '9:36am', '-0.18', '181800'],\n",
    "['AIG', '71.38', '6/11/2007', '9:36am', '-0.15', '195500'],\n",
    "['AXP', '62.58', '6/11/2007', '9:36am', '-0.46', '935000'],\n",
    "['BA', '98.31', '6/11/2007', '9:36am', '+0.12', '104800'],\n",
    "['C', '53.08', '6/11/2007', '9:36am', '-0.25', '360900'],\n",
    "['CAT', '78.29', '6/11/2007', '9:36am', '-0.23', '225400']\n",
    "     ]"
   ]
  },
  {
   "cell_type": "code",
   "execution_count": 26,
   "metadata": {},
   "outputs": [],
   "source": [
    "with open('stocks.csv','w') as f:\n",
    "    f_csv=csv.writer(f)\n",
    "    f_csv.writerow(headers)\n",
    "    f_csv.writerows(rows)"
   ]
  },
  {
   "cell_type": "code",
   "execution_count": 27,
   "metadata": {},
   "outputs": [
    {
     "name": "stdout",
     "output_type": "stream",
     "text": [
      "['Symbol', 'Price', 'Date', 'Time', 'Change', 'Volume\\n']\n",
      "['\\n']\n",
      "['AA', '39.48', '6/11/2007', '9:36am', '-0.18', '181800\\n']\n",
      "['\\n']\n",
      "['AIG', '71.38', '6/11/2007', '9:36am', '-0.15', '195500\\n']\n",
      "['\\n']\n",
      "['AXP', '62.58', '6/11/2007', '9:36am', '-0.46', '935000\\n']\n",
      "['\\n']\n",
      "['BA', '98.31', '6/11/2007', '9:36am', '+0.12', '104800\\n']\n",
      "['\\n']\n",
      "['C', '53.08', '6/11/2007', '9:36am', '-0.25', '360900\\n']\n",
      "['\\n']\n",
      "['CAT', '78.29', '6/11/2007', '9:36am', '-0.23', '225400\\n']\n",
      "['\\n']\n"
     ]
    }
   ],
   "source": [
    "with open('stocks.csv') as f:\n",
    "    for line in f:\n",
    "        row=line.split(',')\n",
    "        print(row)"
   ]
  },
  {
   "cell_type": "markdown",
   "metadata": {},
   "source": [
    "## If we have a headers which are not valid identifiers(example Header name: num-premises), how we process the csv file:"
   ]
  },
  {
   "cell_type": "code",
   "execution_count": 30,
   "metadata": {},
   "outputs": [
    {
     "name": "stdout",
     "output_type": "stream",
     "text": [
      "AFTER: ['Symbol', 'Price', '_Date', 'Time', 'Change', 'Volume']\n"
     ]
    },
    {
     "ename": "ValueError",
     "evalue": "Field names cannot start with an underscore: '_Date'",
     "output_type": "error",
     "traceback": [
      "\u001b[1;31m---------------------------------------------------------------------------\u001b[0m",
      "\u001b[1;31mValueError\u001b[0m                                Traceback (most recent call last)",
      "\u001b[1;32m<ipython-input-30-243ffdac93c8>\u001b[0m in \u001b[0;36m<module>\u001b[1;34m\u001b[0m\n\u001b[0;32m      4\u001b[0m     \u001b[0mheaders\u001b[0m\u001b[1;33m=\u001b[0m\u001b[1;33m[\u001b[0m \u001b[0mre\u001b[0m\u001b[1;33m.\u001b[0m\u001b[0msub\u001b[0m\u001b[1;33m(\u001b[0m\u001b[1;34m'[^a-zA-Z_]'\u001b[0m\u001b[1;33m,\u001b[0m\u001b[1;34m'_'\u001b[0m\u001b[1;33m,\u001b[0m\u001b[0mh\u001b[0m\u001b[1;33m)\u001b[0m \u001b[1;32mfor\u001b[0m \u001b[0mh\u001b[0m \u001b[1;32min\u001b[0m \u001b[0mnext\u001b[0m\u001b[1;33m(\u001b[0m\u001b[0mf_csv\u001b[0m\u001b[1;33m)\u001b[0m\u001b[1;33m]\u001b[0m\u001b[1;33m\u001b[0m\u001b[1;33m\u001b[0m\u001b[0m\n\u001b[0;32m      5\u001b[0m     \u001b[0mprint\u001b[0m\u001b[1;33m(\u001b[0m\u001b[1;34m\"AFTER:\"\u001b[0m\u001b[1;33m,\u001b[0m \u001b[0mheaders\u001b[0m\u001b[1;33m)\u001b[0m\u001b[1;33m\u001b[0m\u001b[1;33m\u001b[0m\u001b[0m\n\u001b[1;32m----> 6\u001b[1;33m     \u001b[0mRow\u001b[0m\u001b[1;33m=\u001b[0m\u001b[0mnamedtuple\u001b[0m\u001b[1;33m(\u001b[0m\u001b[1;34m'Row'\u001b[0m\u001b[1;33m,\u001b[0m\u001b[0mheaders\u001b[0m\u001b[1;33m)\u001b[0m\u001b[1;33m\u001b[0m\u001b[1;33m\u001b[0m\u001b[0m\n\u001b[0m\u001b[0;32m      7\u001b[0m     \u001b[1;32mfor\u001b[0m \u001b[0mr\u001b[0m \u001b[1;32min\u001b[0m \u001b[0mf_csv\u001b[0m\u001b[1;33m:\u001b[0m\u001b[1;33m\u001b[0m\u001b[1;33m\u001b[0m\u001b[0m\n\u001b[0;32m      8\u001b[0m         \u001b[0mrow\u001b[0m\u001b[1;33m=\u001b[0m\u001b[0mRow\u001b[0m\u001b[1;33m(\u001b[0m\u001b[1;33m*\u001b[0m\u001b[0mr\u001b[0m\u001b[1;33m)\u001b[0m\u001b[1;33m\u001b[0m\u001b[1;33m\u001b[0m\u001b[0m\n",
      "\u001b[1;32m~\\Anaconda3\\lib\\collections\\__init__.py\u001b[0m in \u001b[0;36mnamedtuple\u001b[1;34m(typename, field_names, rename, defaults, module)\u001b[0m\n\u001b[0;32m    368\u001b[0m     \u001b[1;32mfor\u001b[0m \u001b[0mname\u001b[0m \u001b[1;32min\u001b[0m \u001b[0mfield_names\u001b[0m\u001b[1;33m:\u001b[0m\u001b[1;33m\u001b[0m\u001b[1;33m\u001b[0m\u001b[0m\n\u001b[0;32m    369\u001b[0m         \u001b[1;32mif\u001b[0m \u001b[0mname\u001b[0m\u001b[1;33m.\u001b[0m\u001b[0mstartswith\u001b[0m\u001b[1;33m(\u001b[0m\u001b[1;34m'_'\u001b[0m\u001b[1;33m)\u001b[0m \u001b[1;32mand\u001b[0m \u001b[1;32mnot\u001b[0m \u001b[0mrename\u001b[0m\u001b[1;33m:\u001b[0m\u001b[1;33m\u001b[0m\u001b[1;33m\u001b[0m\u001b[0m\n\u001b[1;32m--> 370\u001b[1;33m             raise ValueError('Field names cannot start with an underscore: '\n\u001b[0m\u001b[0;32m    371\u001b[0m                              f'{name!r}')\n\u001b[0;32m    372\u001b[0m         \u001b[1;32mif\u001b[0m \u001b[0mname\u001b[0m \u001b[1;32min\u001b[0m \u001b[0mseen\u001b[0m\u001b[1;33m:\u001b[0m\u001b[1;33m\u001b[0m\u001b[1;33m\u001b[0m\u001b[0m\n",
      "\u001b[1;31mValueError\u001b[0m: Field names cannot start with an underscore: '_Date'"
     ]
    }
   ],
   "source": [
    "import re\n",
    "with open('data.csv') as f:\n",
    "    f_csv=csv.reader(f)\n",
    "    headers=[ re.sub('[^a-zA-Z_]','_',h) for h in next(f_csv)]\n",
    "    print(\"AFTER:\", headers)\n",
    "    Row=namedtuple('Row',headers)\n",
    "    for r in f_csv:\n",
    "        row=Row(*r)\n",
    "        print(row.Symbol)"
   ]
  },
  {
   "cell_type": "markdown",
   "metadata": {},
   "source": [
    "# How we convert to string data to other types"
   ]
  },
  {
   "cell_type": "code",
   "execution_count": 36,
   "metadata": {},
   "outputs": [
    {
     "name": "stdout",
     "output_type": "stream",
     "text": [
      "<class 'float'>\n",
      "<class 'float'>\n",
      "<class 'float'>\n",
      "<class 'float'>\n",
      "<class 'float'>\n",
      "<class 'float'>\n"
     ]
    }
   ],
   "source": [
    "#1st way\n",
    "#write each data type for columns in list\n",
    "col_types=[str,float,str,str, float, int]\n",
    "with open('data.csv') as f:\n",
    "    f_csv=csv.reader(f)\n",
    "    header=next(f_csv)\n",
    "    for row in f_csv:\n",
    "        row=[converted_type(value)\n",
    "             for converted_type,value in zip(col_types,row)]\n",
    "        print(type(row[1]))"
   ]
  },
  {
   "cell_type": "markdown",
   "metadata": {},
   "source": [
    "## converting selected fields(columna) type of csv file"
   ]
  },
  {
   "cell_type": "code",
   "execution_count": 42,
   "metadata": {},
   "outputs": [
    {
     "name": "stdout",
     "output_type": "stream",
     "text": [
      "<class 'int'>\n",
      "<class 'int'>\n",
      "<class 'int'>\n",
      "<class 'int'>\n",
      "<class 'int'>\n",
      "<class 'int'>\n"
     ]
    }
   ],
   "source": [
    "field_types=[('Price',float),('Change',float),('Volume',int)]\n",
    "with open('data.csv') as f:\n",
    "    for row in csv.DictReader(f):\n",
    "        row.update((key,conversion(row[key]))\n",
    "                   for key, conversion in field_types)\n",
    "        print(type(row['Volume']))"
   ]
  },
  {
   "cell_type": "markdown",
   "metadata": {},
   "source": [
    "## Reading and Writng JSON Data\n",
    "\n",
    "JSON is stands for Javasprict Object Notation. In python there exist a module with __json__. With this modlue we can read JSON data."
   ]
  },
  {
   "cell_type": "code",
   "execution_count": 43,
   "metadata": {},
   "outputs": [
    {
     "name": "stdout",
     "output_type": "stream",
     "text": [
      "{\"name\": \"MISY\", \"code\": 3871, \"section\": 1}\n"
     ]
    }
   ],
   "source": [
    "#Let us convert Python dictionary into JSON data\n",
    "import json\n",
    "\n",
    "data={'name':'MISY',\n",
    "     'code': 3871,\n",
    "     'section': 1\n",
    "     }\n",
    "#convert this dictionary int json string\n",
    "json_str=json.dumps(data)\n",
    "print(json_str)"
   ]
  },
  {
   "cell_type": "code",
   "execution_count": 44,
   "metadata": {},
   "outputs": [],
   "source": [
    "#let us write this json string int o json file\n",
    "with open('data.json','w') as f:\n",
    "    json.dump(data,f)"
   ]
  },
  {
   "cell_type": "code",
   "execution_count": 45,
   "metadata": {},
   "outputs": [
    {
     "name": "stdout",
     "output_type": "stream",
     "text": [
      "{'name': 'MISY', 'code': 3871, 'section': 1}\n"
     ]
    }
   ],
   "source": [
    "#read the json file\n",
    "with open('data.json','r') as f:\n",
    "    data=json.load(f)\n",
    "    print(data)"
   ]
  },
  {
   "cell_type": "code",
   "execution_count": 46,
   "metadata": {},
   "outputs": [
    {
     "data": {
      "text/plain": [
       "'{\"a\": true, \"b\": \"Hello\", \"c\": null}'"
      ]
     },
     "execution_count": 46,
     "metadata": {},
     "output_type": "execute_result"
    }
   ],
   "source": [
    "yes=True# in type true\n",
    "variable=None # in json type null\n",
    "d={'a': True,\n",
    "  'b': 'Hello',\n",
    "  'c': None}\n",
    "\n",
    "json.dumps(d)"
   ]
  },
  {
   "cell_type": "code",
   "execution_count": 49,
   "metadata": {},
   "outputs": [
    {
     "name": "stdout",
     "output_type": "stream",
     "text": [
      "{'MRData': {'RaceTable': {'Races': [{'Circuit': {'Location': {'country': 'Australia',\n",
      "                                                              'lat': '-37.8497',\n",
      "                                                              'locality': 'Melbourne',\n",
      "                                                              'long': '144.968'},\n",
      "                                                 'circuitId': 'albert_park',\n",
      "                                                 'circuitName': 'Albert Park '\n",
      "                                                                'Grand Prix '\n",
      "                                                                'Circuit',\n",
      "                                                 'url': 'http://en.wikipedia.org/wiki/Melbourne_Grand_Prix_Circuit'},\n",
      "                                     'Results': [{'Constructor': {'constructorId': 'ferrari',\n",
      "                                                                  'name': 'Ferrari',\n",
      "                                                                  'nationality': 'Italian',\n",
      "                                                                  'url': 'http://en.wikipedia.org/wiki/Scuderia_Ferrari'},\n",
      "                                                  'Driver': {'code': 'MSC',\n",
      "                                                             'dateOfBirth': '1969-01-03',\n",
      "                                                             'driverId': 'michael_schumacher',\n",
      "                                                             'familyName': 'Schumacher',\n",
      "                                                             'givenName': 'Michael',\n",
      "                                                             'nationality': 'German',\n",
      "                                                             'url': 'http://en.wikipedia.org/wiki/Michael_Schumacher'},\n",
      "                                                  'FastestLap': {'AverageSpeed': {'speed': '226.933',\n",
      "                                                                                  'units': 'kph'},\n",
      "                                                                 'Time': {'time': '1:24.125'},\n",
      "                                                                 'lap': '29',\n",
      "                                                                 'rank': '1'},\n",
      "                                                  'Time': {'millis': '5055757',\n",
      "                                                           'time': '1:24:15.757'},\n",
      "                                                  'grid': '1',\n",
      "                                                  'laps': '58',\n",
      "                                                  'number': '1',\n",
      "                                                  'points': '10',\n",
      "                                                  'position': '1',\n",
      "                                                  'positionText': '1',\n",
      "                                                  'status': 'Finished'},\n",
      "                                                 {'Constructor': {'constructorId': 'ferrari',\n",
      "                                                                  'name': 'Ferrari',\n",
      "                                                                  'nationality': 'Italian',\n",
      "                                                                  'url': 'http://en.wikipedia.org/wiki/Scuderia_Ferrari'},\n",
      "                                                  'Driver': {'code': 'BAR',\n",
      "                                                             'dateOfBirth': '1972-05-23',\n",
      "                                                             'driverId': 'barrichello',\n",
      "                                                             'familyName': 'Barrichello',\n",
      "                                                             'givenName': 'Rubens',\n",
      "                                                             'nationality': 'Brazilian',\n",
      "                                                             'url': 'http://en.wikipedia.org/wiki/Rubens_Barrichello'},\n",
      "                                                  'FastestLap': {'AverageSpeed': {'speed': '226.788',\n",
      "                                                                                  'units': 'kph'},\n",
      "                                                                 'Time': {'time': '1:24.179'},\n",
      "                                                                 'lap': '8',\n",
      "                                                                 'rank': '2'},\n",
      "                                                  'Time': {'millis': '5069362',\n",
      "                                                           'time': '+13.605'},\n",
      "                                                  'grid': '2',\n",
      "                                                  'laps': '58',\n",
      "                                                  'number': '2',\n",
      "                                                  'points': '8',\n",
      "                                                  'position': '2',\n",
      "                                                  'positionText': '2',\n",
      "                                                  'status': 'Finished'},\n",
      "                                                 {'Constructor': {'constructorId': 'renault',\n",
      "                                                                  'name': 'Renault',\n",
      "                                                                  'nationality': 'French',\n",
      "                                                                  'url': 'http://en.wikipedia.org/wiki/Renault_in_Formula_One'},\n",
      "                                                  'Driver': {'code': 'ALO',\n",
      "                                                             'dateOfBirth': '1981-07-29',\n",
      "                                                             'driverId': 'alonso',\n",
      "                                                             'familyName': 'Alonso',\n",
      "                                                             'givenName': 'Fernando',\n",
      "                                                             'nationality': 'Spanish',\n",
      "                                                             'permanentNumber': '14',\n",
      "                                                             'url': 'http://en.wikipedia.org/wiki/Fernando_Alonso'},\n",
      "                                                  'FastestLap': {'AverageSpeed': {'speed': '224.365',\n",
      "                                                                                  'units': 'kph'},\n",
      "                                                                 'Time': {'time': '1:25.088'},\n",
      "                                                                 'lap': '10',\n",
      "                                                                 'rank': '3'},\n",
      "                                                  'Time': {'millis': '5090430',\n",
      "                                                           'time': '+34.673'},\n",
      "                                                  'grid': '5',\n",
      "                                                  'laps': '58',\n",
      "                                                  'number': '8',\n",
      "                                                  'points': '6',\n",
      "                                                  'position': '3',\n",
      "                                                  'positionText': '3',\n",
      "                                                  'status': 'Finished'},\n",
      "                                                 {'Constructor': {'constructorId': 'williams',\n",
      "                                                                  'name': 'Williams',\n",
      "                                                                  'nationality': 'British',\n",
      "                                                                  'url': 'http://en.wikipedia.org/wiki/Williams_Grand_Prix_Engineering'},\n",
      "                                                  'Driver': {'code': 'SCH',\n",
      "                                                             'dateOfBirth': '1975-06-30',\n",
      "                                                             'driverId': 'ralf_schumacher',\n",
      "                                                             'familyName': 'Schumacher',\n",
      "                                                             'givenName': 'Ralf',\n",
      "                                                             'nationality': 'German',\n",
      "                                                             'url': 'http://en.wikipedia.org/wiki/Ralf_Schumacher'},\n",
      "                                                  'FastestLap': {'AverageSpeed': {'speed': '222.441',\n",
      "                                                                                  'units': 'kph'},\n",
      "                                                                 'Time': {'time': '1:25.824'},\n",
      "                                                                 'lap': '11',\n",
      "                                                                 'rank': '5'},\n",
      "                                                  'Time': {'millis': '5116180',\n",
      "                                                           'time': '+1:00.423'},\n",
      "                                                  'grid': '8',\n",
      "                                                  'laps': '58',\n",
      "                                                  'number': '4',\n",
      "                                                  'points': '5',\n",
      "                                                  'position': '4',\n",
      "                                                  'positionText': '4',\n",
      "                                                  'status': 'Finished'},\n",
      "                                                 {'Constructor': {'constructorId': 'williams',\n",
      "                                                                  'name': 'Williams',\n",
      "                                                                  'nationality': 'British',\n",
      "                                                                  'url': 'http://en.wikipedia.org/wiki/Williams_Grand_Prix_Engineering'},\n",
      "                                                  'Driver': {'code': 'MON',\n",
      "                                                             'dateOfBirth': '1975-09-20',\n",
      "                                                             'driverId': 'montoya',\n",
      "                                                             'familyName': 'Pablo '\n",
      "                                                                           'Montoya',\n",
      "                                                             'givenName': 'Juan',\n",
      "                                                             'nationality': 'Colombian',\n",
      "                                                             'url': 'http://en.wikipedia.org/wiki/Juan_Pablo_Montoya'},\n",
      "                                                  'FastestLap': {'AverageSpeed': {'speed': '223.844',\n",
      "                                                                                  'units': 'kph'},\n",
      "                                                                 'Time': {'time': '1:25.286'},\n",
      "                                                                 'lap': '42',\n",
      "                                                                 'rank': '4'},\n",
      "                                                  'Time': {'millis': '5124293',\n",
      "                                                           'time': '+1:08.536'},\n",
      "                                                  'grid': '3',\n",
      "                                                  'laps': '58',\n",
      "                                                  'number': '3',\n",
      "                                                  'points': '4',\n",
      "                                                  'position': '5',\n",
      "                                                  'positionText': '5',\n",
      "                                                  'status': 'Finished'},\n",
      "                                                 {'Constructor': {'constructorId': 'bar',\n",
      "                                                                  'name': 'BAR',\n",
      "                                                                  'nationality': 'British',\n",
      "                                                                  'url': 'http://en.wikipedia.org/wiki/British_American_Racing'},\n",
      "                                                  'Driver': {'code': 'BUT',\n",
      "                                                             'dateOfBirth': '1980-01-19',\n",
      "                                                             'driverId': 'button',\n",
      "                                                             'familyName': 'Button',\n",
      "                                                             'givenName': 'Jenson',\n",
      "                                                             'nationality': 'British',\n",
      "                                                             'permanentNumber': '22',\n",
      "                                                             'url': 'http://en.wikipedia.org/wiki/Jenson_Button'},\n",
      "                                                  'FastestLap': {'AverageSpeed': {'speed': '222.032',\n",
      "                                                                                  'units': 'kph'},\n",
      "                                                                 'Time': {'time': '1:25.982'},\n",
      "                                                                 'lap': '24',\n",
      "                                                                 'rank': '7'},\n",
      "                                                  'Time': {'millis': '5126355',\n",
      "                                                           'time': '+1:10.598'},\n",
      "                                                  'grid': '4',\n",
      "                                                  'laps': '58',\n",
      "                                                  'number': '9',\n",
      "                                                  'points': '3',\n",
      "                                                  'position': '6',\n",
      "                                                  'positionText': '6',\n",
      "                                                  'status': 'Finished'},\n",
      "                                                 {'Constructor': {'constructorId': 'renault',\n",
      "                                                                  'name': 'Renault',\n",
      "                                                                  'nationality': 'French',\n",
      "                                                                  'url': 'http://en.wikipedia.org/wiki/Renault_in_Formula_One'},\n",
      "                                                  'Driver': {'code': 'TRU',\n",
      "                                                             'dateOfBirth': '1974-07-13',\n",
      "                                                             'driverId': 'trulli',\n",
      "                                                             'familyName': 'Trulli',\n",
      "                                                             'givenName': 'Jarno',\n",
      "                                                             'nationality': 'Italian',\n",
      "                                                             'url': 'http://en.wikipedia.org/wiki/Jarno_Trulli'},\n",
      "                                                  'FastestLap': {'AverageSpeed': {'speed': '221.278',\n",
      "                                                                                  'units': 'kph'},\n",
      "                                                                 'Time': {'time': '1:26.275'},\n",
      "                                                                 'lap': '9',\n",
      "                                                                 'rank': '9'},\n",
      "                                                  'grid': '9',\n",
      "                                                  'laps': '57',\n",
      "                                                  'number': '7',\n",
      "                                                  'points': '2',\n",
      "                                                  'position': '7',\n",
      "                                                  'positionText': '7',\n",
      "                                                  'status': '+1 Lap'},\n",
      "                                                 {'Constructor': {'constructorId': 'mclaren',\n",
      "                                                                  'name': 'McLaren',\n",
      "                                                                  'nationality': 'British',\n",
      "                                                                  'url': 'http://en.wikipedia.org/wiki/McLaren'},\n",
      "                                                  'Driver': {'code': 'COU',\n",
      "                                                             'dateOfBirth': '1971-03-27',\n",
      "                                                             'driverId': 'coulthard',\n",
      "                                                             'familyName': 'Coulthard',\n",
      "                                                             'givenName': 'David',\n",
      "                                                             'nationality': 'British',\n",
      "                                                             'url': 'http://en.wikipedia.org/wiki/David_Coulthard'},\n",
      "                                                  'FastestLap': {'AverageSpeed': {'speed': '221.142',\n",
      "                                                                                  'units': 'kph'},\n",
      "                                                                 'Time': {'time': '1:26.328'},\n",
      "                                                                 'lap': '13',\n",
      "                                                                 'rank': '11'},\n",
      "                                                  'grid': '12',\n",
      "                                                  'laps': '57',\n",
      "                                                  'number': '5',\n",
      "                                                  'points': '1',\n",
      "                                                  'position': '8',\n",
      "                                                  'positionText': '8',\n",
      "                                                  'status': '+1 Lap'},\n",
      "                                                 {'Constructor': {'constructorId': 'bar',\n",
      "                                                                  'name': 'BAR',\n",
      "                                                                  'nationality': 'British',\n",
      "                                                                  'url': 'http://en.wikipedia.org/wiki/British_American_Racing'},\n",
      "                                                  'Driver': {'code': 'SAT',\n",
      "                                                             'dateOfBirth': '1977-01-28',\n",
      "                                                             'driverId': 'sato',\n",
      "                                                             'familyName': 'Sato',\n",
      "                                                             'givenName': 'Takuma',\n",
      "                                                             'nationality': 'Japanese',\n",
      "                                                             'url': 'http://en.wikipedia.org/wiki/Takuma_Sato'},\n",
      "                                                  'FastestLap': {'AverageSpeed': {'speed': '221.787',\n",
      "                                                                                  'units': 'kph'},\n",
      "                                                                 'Time': {'time': '1:26.077'},\n",
      "                                                                 'lap': '43',\n",
      "                                                                 'rank': '8'},\n",
      "                                                  'grid': '7',\n",
      "                                                  'laps': '57',\n",
      "                                                  'number': '10',\n",
      "                                                  'points': '0',\n",
      "                                                  'position': '9',\n",
      "                                                  'positionText': '9',\n",
      "                                                  'status': '+1 Lap'},\n",
      "                                                 {'Constructor': {'constructorId': 'sauber',\n",
      "                                                                  'name': 'Sauber',\n",
      "                                                                  'nationality': 'Swiss',\n",
      "                                                                  'url': 'http://en.wikipedia.org/wiki/Sauber'},\n",
      "                                                  'Driver': {'code': 'FIS',\n",
      "                                                             'dateOfBirth': '1973-01-14',\n",
      "                                                             'driverId': 'fisichella',\n",
      "                                                             'familyName': 'Fisichella',\n",
      "                                                             'givenName': 'Giancarlo',\n",
      "                                                             'nationality': 'Italian',\n",
      "                                                             'url': 'http://en.wikipedia.org/wiki/Giancarlo_Fisichella'},\n",
      "                                                  'FastestLap': {'AverageSpeed': {'speed': '221.260',\n",
      "                                                                                  'units': 'kph'},\n",
      "                                                                 'Time': {'time': '1:26.282'},\n",
      "                                                                 'lap': '39',\n",
      "                                                                 'rank': '10'},\n",
      "                                                  'grid': '14',\n",
      "                                                  'laps': '57',\n",
      "                                                  'number': '11',\n",
      "                                                  'points': '0',\n",
      "                                                  'position': '10',\n",
      "                                                  'positionText': '10',\n",
      "                                                  'status': '+1 Lap'},\n",
      "                                                 {'Constructor': {'constructorId': 'jaguar',\n",
      "                                                                  'name': 'Jaguar',\n",
      "                                                                  'nationality': 'British',\n",
      "                                                                  'url': 'http://en.wikipedia.org/wiki/Jaguar_Racing'},\n",
      "                                                  'Driver': {'code': 'KLI',\n",
      "                                                             'dateOfBirth': '1983-02-07',\n",
      "                                                             'driverId': 'klien',\n",
      "                                                             'familyName': 'Klien',\n",
      "                                                             'givenName': 'Christian',\n",
      "                                                             'nationality': 'Austrian',\n",
      "                                                             'url': 'http://en.wikipedia.org/wiki/Christian_Klien'},\n",
      "                                                  'FastestLap': {'AverageSpeed': {'speed': '217.336',\n",
      "                                                                                  'units': 'kph'},\n",
      "                                                                 'Time': {'time': '1:27.840'},\n",
      "                                                                 'lap': '6',\n",
      "                                                                 'rank': '16'},\n",
      "                                                  'grid': '19',\n",
      "                                                  'laps': '56',\n",
      "                                                  'number': '15',\n",
      "                                                  'points': '0',\n",
      "                                                  'position': '11',\n",
      "                                                  'positionText': '11',\n",
      "                                                  'status': '+2 Laps'},\n",
      "                                                 {'Constructor': {'constructorId': 'toyota',\n",
      "                                                                  'name': 'Toyota',\n",
      "                                                                  'nationality': 'Japanese',\n",
      "                                                                  'url': 'http://en.wikipedia.org/wiki/Toyota_Racing'},\n",
      "                                                  'Driver': {'dateOfBirth': '1973-09-19',\n",
      "                                                             'driverId': 'matta',\n",
      "                                                             'familyName': 'da '\n",
      "                                                                           'Matta',\n",
      "                                                             'givenName': 'Cristiano',\n",
      "                                                             'nationality': 'Brazilian',\n",
      "                                                             'url': 'http://en.wikipedia.org/wiki/Cristiano_da_Matta'},\n",
      "                                                  'FastestLap': {'AverageSpeed': {'speed': '217.385',\n",
      "                                                                                  'units': 'kph'},\n",
      "                                                                 'Time': {'time': '1:27.820'},\n",
      "                                                                 'lap': '41',\n",
      "                                                                 'rank': '15'},\n",
      "                                                  'grid': '13',\n",
      "                                                  'laps': '56',\n",
      "                                                  'number': '16',\n",
      "                                                  'points': '0',\n",
      "                                                  'position': '12',\n",
      "                                                  'positionText': '12',\n",
      "                                                  'status': '+2 Laps'},\n",
      "                                                 {'Constructor': {'constructorId': 'toyota',\n",
      "                                                                  'name': 'Toyota',\n",
      "                                                                  'nationality': 'Japanese',\n",
      "                                                                  'url': 'http://en.wikipedia.org/wiki/Toyota_Racing'},\n",
      "                                                  'Driver': {'dateOfBirth': '1966-09-02',\n",
      "                                                             'driverId': 'panis',\n",
      "                                                             'familyName': 'Panis',\n",
      "                                                             'givenName': 'Olivier',\n",
      "                                                             'nationality': 'French',\n",
      "                                                             'url': 'http://en.wikipedia.org/wiki/Olivier_Panis'},\n",
      "                                                  'FastestLap': {'AverageSpeed': {'speed': '217.417',\n",
      "                                                                                  'units': 'kph'},\n",
      "                                                                 'Time': {'time': '1:27.807'},\n",
      "                                                                 'lap': '35',\n",
      "                                                                 'rank': '14'},\n",
      "                                                  'grid': '18',\n",
      "                                                  'laps': '56',\n",
      "                                                  'number': '17',\n",
      "                                                  'points': '0',\n",
      "                                                  'position': '13',\n",
      "                                                  'positionText': '13',\n",
      "                                                  'status': '+2 Laps'},\n",
      "                                                 {'Constructor': {'constructorId': 'jordan',\n",
      "                                                                  'name': 'Jordan',\n",
      "                                                                  'nationality': 'Irish',\n",
      "                                                                  'url': 'http://en.wikipedia.org/wiki/Jordan_Grand_Prix'},\n",
      "                                                  'Driver': {'dateOfBirth': '1979-02-04',\n",
      "                                                             'driverId': 'pantano',\n",
      "                                                             'familyName': 'Pantano',\n",
      "                                                             'givenName': 'Giorgio',\n",
      "                                                             'nationality': 'Italian',\n",
      "                                                             'url': 'http://en.wikipedia.org/wiki/Giorgio_Pantano'},\n",
      "                                                  'FastestLap': {'AverageSpeed': {'speed': '215.659',\n",
      "                                                                                  'units': 'kph'},\n",
      "                                                                 'Time': {'time': '1:28.523'},\n",
      "                                                                 'lap': '15',\n",
      "                                                                 'rank': '18'},\n",
      "                                                  'grid': '16',\n",
      "                                                  'laps': '55',\n",
      "                                                  'number': '19',\n",
      "                                                  'points': '0',\n",
      "                                                  'position': '14',\n",
      "                                                  'positionText': '14',\n",
      "                                                  'status': '+3 Laps'},\n",
      "                                                 {'Constructor': {'constructorId': 'sauber',\n",
      "                                                                  'name': 'Sauber',\n",
      "                                                                  'nationality': 'Swiss',\n",
      "                                                                  'url': 'http://en.wikipedia.org/wiki/Sauber'},\n",
      "                                                  'Driver': {'code': 'MAS',\n",
      "                                                             'dateOfBirth': '1981-04-25',\n",
      "                                                             'driverId': 'massa',\n",
      "                                                             'familyName': 'Massa',\n",
      "                                                             'givenName': 'Felipe',\n",
      "                                                             'nationality': 'Brazilian',\n",
      "                                                             'permanentNumber': '19',\n",
      "                                                             'url': 'http://en.wikipedia.org/wiki/Felipe_Massa'},\n",
      "                                                  'FastestLap': {'AverageSpeed': {'speed': '219.823',\n",
      "                                                                                  'units': 'kph'},\n",
      "                                                                 'Time': {'time': '1:26.846'},\n",
      "                                                                 'lap': '11',\n",
      "                                                                 'rank': '12'},\n",
      "                                                  'grid': '11',\n",
      "                                                  'laps': '44',\n",
      "                                                  'number': '12',\n",
      "                                                  'points': '0',\n",
      "                                                  'position': '15',\n",
      "                                                  'positionText': 'R',\n",
      "                                                  'status': 'Engine'},\n",
      "                                                 {'Constructor': {'constructorId': 'jordan',\n",
      "                                                                  'name': 'Jordan',\n",
      "                                                                  'nationality': 'Irish',\n",
      "                                                                  'url': 'http://en.wikipedia.org/wiki/Jordan_Grand_Prix'},\n",
      "                                                  'Driver': {'code': 'HEI',\n",
      "                                                             'dateOfBirth': '1977-05-10',\n",
      "                                                             'driverId': 'heidfeld',\n",
      "                                                             'familyName': 'Heidfeld',\n",
      "                                                             'givenName': 'Nick',\n",
      "                                                             'nationality': 'German',\n",
      "                                                             'url': 'http://en.wikipedia.org/wiki/Nick_Heidfeld'},\n",
      "                                                  'FastestLap': {'AverageSpeed': {'speed': '218.173',\n",
      "                                                                                  'units': 'kph'},\n",
      "                                                                 'Time': {'time': '1:27.503'},\n",
      "                                                                 'lap': '27',\n",
      "                                                                 'rank': '13'},\n",
      "                                                  'grid': '15',\n",
      "                                                  'laps': '43',\n",
      "                                                  'number': '18',\n",
      "                                                  'points': '0',\n",
      "                                                  'position': '16',\n",
      "                                                  'positionText': 'R',\n",
      "                                                  'status': 'Transmission'},\n",
      "                                                 {'Constructor': {'constructorId': 'minardi',\n",
      "                                                                  'name': 'Minardi',\n",
      "                                                                  'nationality': 'Italian',\n",
      "                                                                  'url': 'http://en.wikipedia.org/wiki/Minardi'},\n",
      "                                                  'Driver': {'dateOfBirth': '1981-05-30',\n",
      "                                                             'driverId': 'bruni',\n",
      "                                                             'familyName': 'Bruni',\n",
      "                                                             'givenName': 'Gianmaria',\n",
      "                                                             'nationality': 'Italian',\n",
      "                                                             'url': 'http://en.wikipedia.org/wiki/Gianmaria_Bruni'},\n",
      "                                                  'FastestLap': {'AverageSpeed': {'speed': '211.741',\n",
      "                                                                                  'units': 'kph'},\n",
      "                                                                 'Time': {'time': '1:30.161'},\n",
      "                                                                 'lap': '10',\n",
      "                                                                 'rank': '19'},\n",
      "                                                  'grid': '20',\n",
      "                                                  'laps': '43',\n",
      "                                                  'number': '20',\n",
      "                                                  'points': '0',\n",
      "                                                  'position': '17',\n",
      "                                                  'positionText': 'N',\n",
      "                                                  'status': 'Not classified'},\n",
      "                                                 {'Constructor': {'constructorId': 'jaguar',\n",
      "                                                                  'name': 'Jaguar',\n",
      "                                                                  'nationality': 'British',\n",
      "                                                                  'url': 'http://en.wikipedia.org/wiki/Jaguar_Racing'},\n",
      "                                                  'Driver': {'code': 'WEB',\n",
      "                                                             'dateOfBirth': '1976-08-27',\n",
      "                                                             'driverId': 'webber',\n",
      "                                                             'familyName': 'Webber',\n",
      "                                                             'givenName': 'Mark',\n",
      "                                                             'nationality': 'Australian',\n",
      "                                                             'url': 'http://en.wikipedia.org/wiki/Mark_Webber_(racing_driver)'},\n",
      "                                                  'FastestLap': {'AverageSpeed': {'speed': '222.110',\n",
      "                                                                                  'units': 'kph'},\n",
      "                                                                 'Time': {'time': '1:25.952'},\n",
      "                                                                 'lap': '15',\n",
      "                                                                 'rank': '6'},\n",
      "                                                  'grid': '6',\n",
      "                                                  'laps': '29',\n",
      "                                                  'number': '14',\n",
      "                                                  'points': '0',\n",
      "                                                  'position': '18',\n",
      "                                                  'positionText': 'R',\n",
      "                                                  'status': 'Transmission'},\n",
      "                                                 {'Constructor': {'constructorId': 'minardi',\n",
      "                                                                  'name': 'Minardi',\n",
      "                                                                  'nationality': 'Italian',\n",
      "                                                                  'url': 'http://en.wikipedia.org/wiki/Minardi'},\n",
      "                                                  'Driver': {'dateOfBirth': '1981-01-01',\n",
      "                                                             'driverId': 'baumgartner',\n",
      "                                                             'familyName': 'Baumgartner',\n",
      "                                                             'givenName': 'Zsolt',\n",
      "                                                             'nationality': 'Hungarian',\n",
      "                                                             'url': 'http://en.wikipedia.org/wiki/Zsolt_Baumgartner'},\n",
      "                                                  'FastestLap': {'AverageSpeed': {'speed': '210.666',\n",
      "                                                                                  'units': 'kph'},\n",
      "                                                                 'Time': {'time': '1:30.621'},\n",
      "                                                                 'lap': '8',\n",
      "                                                                 'rank': '20'},\n",
      "                                                  'grid': '17',\n",
      "                                                  'laps': '13',\n",
      "                                                  'number': '21',\n",
      "                                                  'points': '0',\n",
      "                                                  'position': '19',\n",
      "                                                  'positionText': 'R',\n",
      "                                                  'status': 'Electrical'},\n",
      "                                                 {'Constructor': {'constructorId': 'mclaren',\n",
      "                                                                  'name': 'McLaren',\n",
      "                                                                  'nationality': 'British',\n",
      "                                                                  'url': 'http://en.wikipedia.org/wiki/McLaren'},\n",
      "                                                  'Driver': {'code': 'RAI',\n",
      "                                                             'dateOfBirth': '1979-10-17',\n",
      "                                                             'driverId': 'raikkonen',\n",
      "                                                             'familyName': 'Räikkönen',\n",
      "                                                             'givenName': 'Kimi',\n",
      "                                                             'nationality': 'Finnish',\n",
      "                                                             'permanentNumber': '7',\n",
      "                                                             'url': 'http://en.wikipedia.org/wiki/Kimi_R%C3%A4ikk%C3%B6nen'},\n",
      "                                                  'FastestLap': {'AverageSpeed': {'speed': '217.098',\n",
      "                                                                                  'units': 'kph'},\n",
      "                                                                 'Time': {'time': '1:27.936'},\n",
      "                                                                 'lap': '7',\n",
      "                                                                 'rank': '17'},\n",
      "                                                  'grid': '10',\n",
      "                                                  'laps': '9',\n",
      "                                                  'number': '6',\n",
      "                                                  'points': '0',\n",
      "                                                  'position': '20',\n",
      "                                                  'positionText': 'R',\n",
      "                                                  'status': 'Engine'}],\n",
      "                                     'date': '2004-03-07',\n",
      "                                     'raceName': 'Australian Grand Prix',\n",
      "                                     'round': '1',\n",
      "                                     'season': '2004',\n",
      "                                     'url': 'http://en.wikipedia.org/wiki/2004_Australian_Grand_Prix'}],\n",
      "                          'round': '1',\n",
      "                          'season': '2004'},\n",
      "            'limit': '30',\n",
      "            'offset': '0',\n",
      "            'series': 'f1',\n",
      "            'total': '20',\n",
      "            'url': 'http://ergast.com/api/f1/2004/1/results.json',\n",
      "            'xmlns': 'http://ergast.com/mrd/1.5'}}\n"
     ]
    }
   ],
   "source": [
    "from urllib.request import urlopen\n",
    "from pprint import pprint\n",
    "# a historical record of motor racing data for non-commercial purposes.\n",
    "u=urlopen('http://ergast.com/api/f1/2004/1/results.json')\n",
    "response=json.loads(u.read().decode('utf-8'))\n",
    "pprint(response)"
   ]
  },
  {
   "cell_type": "code",
   "execution_count": 53,
   "metadata": {},
   "outputs": [
    {
     "data": {
      "text/plain": [
       "dict"
      ]
     },
     "execution_count": 53,
     "metadata": {},
     "output_type": "execute_result"
    }
   ],
   "source": [
    "type(response) "
   ]
  },
  {
   "cell_type": "code",
   "execution_count": 54,
   "metadata": {},
   "outputs": [
    {
     "data": {
      "text/plain": [
       "dict_keys(['MRData'])"
      ]
     },
     "execution_count": 54,
     "metadata": {},
     "output_type": "execute_result"
    }
   ],
   "source": [
    "response.keys()"
   ]
  },
  {
   "cell_type": "code",
   "execution_count": 56,
   "metadata": {},
   "outputs": [
    {
     "data": {
      "text/plain": [
       "dict"
      ]
     },
     "execution_count": 56,
     "metadata": {},
     "output_type": "execute_result"
    }
   ],
   "source": [
    "actual_data=response['MRData']\n",
    "type(actual_data)"
   ]
  },
  {
   "cell_type": "code",
   "execution_count": 57,
   "metadata": {},
   "outputs": [
    {
     "data": {
      "text/plain": [
       "dict_keys(['xmlns', 'series', 'url', 'limit', 'offset', 'total', 'RaceTable'])"
      ]
     },
     "execution_count": 57,
     "metadata": {},
     "output_type": "execute_result"
    }
   ],
   "source": [
    "actual_data.keys()"
   ]
  },
  {
   "cell_type": "code",
   "execution_count": 60,
   "metadata": {},
   "outputs": [
    {
     "name": "stdout",
     "output_type": "stream",
     "text": [
      "xmlns :  http://ergast.com/mrd/1.5\n",
      "series :  f1\n",
      "url :  http://ergast.com/api/f1/2004/1/results.json\n",
      "limit :  30\n",
      "offset :  0\n",
      "total :  20\n",
      "RaceTable :  {'season': '2004', 'round': '1', 'Races': [{'season': '2004', 'round': '1', 'url': 'http://en.wikipedia.org/wiki/2004_Australian_Grand_Prix', 'raceName': 'Australian Grand Prix', 'Circuit': {'circuitId': 'albert_park', 'url': 'http://en.wikipedia.org/wiki/Melbourne_Grand_Prix_Circuit', 'circuitName': 'Albert Park Grand Prix Circuit', 'Location': {'lat': '-37.8497', 'long': '144.968', 'locality': 'Melbourne', 'country': 'Australia'}}, 'date': '2004-03-07', 'Results': [{'number': '1', 'position': '1', 'positionText': '1', 'points': '10', 'Driver': {'driverId': 'michael_schumacher', 'code': 'MSC', 'url': 'http://en.wikipedia.org/wiki/Michael_Schumacher', 'givenName': 'Michael', 'familyName': 'Schumacher', 'dateOfBirth': '1969-01-03', 'nationality': 'German'}, 'Constructor': {'constructorId': 'ferrari', 'url': 'http://en.wikipedia.org/wiki/Scuderia_Ferrari', 'name': 'Ferrari', 'nationality': 'Italian'}, 'grid': '1', 'laps': '58', 'status': 'Finished', 'Time': {'millis': '5055757', 'time': '1:24:15.757'}, 'FastestLap': {'rank': '1', 'lap': '29', 'Time': {'time': '1:24.125'}, 'AverageSpeed': {'units': 'kph', 'speed': '226.933'}}}, {'number': '2', 'position': '2', 'positionText': '2', 'points': '8', 'Driver': {'driverId': 'barrichello', 'code': 'BAR', 'url': 'http://en.wikipedia.org/wiki/Rubens_Barrichello', 'givenName': 'Rubens', 'familyName': 'Barrichello', 'dateOfBirth': '1972-05-23', 'nationality': 'Brazilian'}, 'Constructor': {'constructorId': 'ferrari', 'url': 'http://en.wikipedia.org/wiki/Scuderia_Ferrari', 'name': 'Ferrari', 'nationality': 'Italian'}, 'grid': '2', 'laps': '58', 'status': 'Finished', 'Time': {'millis': '5069362', 'time': '+13.605'}, 'FastestLap': {'rank': '2', 'lap': '8', 'Time': {'time': '1:24.179'}, 'AverageSpeed': {'units': 'kph', 'speed': '226.788'}}}, {'number': '8', 'position': '3', 'positionText': '3', 'points': '6', 'Driver': {'driverId': 'alonso', 'permanentNumber': '14', 'code': 'ALO', 'url': 'http://en.wikipedia.org/wiki/Fernando_Alonso', 'givenName': 'Fernando', 'familyName': 'Alonso', 'dateOfBirth': '1981-07-29', 'nationality': 'Spanish'}, 'Constructor': {'constructorId': 'renault', 'url': 'http://en.wikipedia.org/wiki/Renault_in_Formula_One', 'name': 'Renault', 'nationality': 'French'}, 'grid': '5', 'laps': '58', 'status': 'Finished', 'Time': {'millis': '5090430', 'time': '+34.673'}, 'FastestLap': {'rank': '3', 'lap': '10', 'Time': {'time': '1:25.088'}, 'AverageSpeed': {'units': 'kph', 'speed': '224.365'}}}, {'number': '4', 'position': '4', 'positionText': '4', 'points': '5', 'Driver': {'driverId': 'ralf_schumacher', 'code': 'SCH', 'url': 'http://en.wikipedia.org/wiki/Ralf_Schumacher', 'givenName': 'Ralf', 'familyName': 'Schumacher', 'dateOfBirth': '1975-06-30', 'nationality': 'German'}, 'Constructor': {'constructorId': 'williams', 'url': 'http://en.wikipedia.org/wiki/Williams_Grand_Prix_Engineering', 'name': 'Williams', 'nationality': 'British'}, 'grid': '8', 'laps': '58', 'status': 'Finished', 'Time': {'millis': '5116180', 'time': '+1:00.423'}, 'FastestLap': {'rank': '5', 'lap': '11', 'Time': {'time': '1:25.824'}, 'AverageSpeed': {'units': 'kph', 'speed': '222.441'}}}, {'number': '3', 'position': '5', 'positionText': '5', 'points': '4', 'Driver': {'driverId': 'montoya', 'code': 'MON', 'url': 'http://en.wikipedia.org/wiki/Juan_Pablo_Montoya', 'givenName': 'Juan', 'familyName': 'Pablo Montoya', 'dateOfBirth': '1975-09-20', 'nationality': 'Colombian'}, 'Constructor': {'constructorId': 'williams', 'url': 'http://en.wikipedia.org/wiki/Williams_Grand_Prix_Engineering', 'name': 'Williams', 'nationality': 'British'}, 'grid': '3', 'laps': '58', 'status': 'Finished', 'Time': {'millis': '5124293', 'time': '+1:08.536'}, 'FastestLap': {'rank': '4', 'lap': '42', 'Time': {'time': '1:25.286'}, 'AverageSpeed': {'units': 'kph', 'speed': '223.844'}}}, {'number': '9', 'position': '6', 'positionText': '6', 'points': '3', 'Driver': {'driverId': 'button', 'permanentNumber': '22', 'code': 'BUT', 'url': 'http://en.wikipedia.org/wiki/Jenson_Button', 'givenName': 'Jenson', 'familyName': 'Button', 'dateOfBirth': '1980-01-19', 'nationality': 'British'}, 'Constructor': {'constructorId': 'bar', 'url': 'http://en.wikipedia.org/wiki/British_American_Racing', 'name': 'BAR', 'nationality': 'British'}, 'grid': '4', 'laps': '58', 'status': 'Finished', 'Time': {'millis': '5126355', 'time': '+1:10.598'}, 'FastestLap': {'rank': '7', 'lap': '24', 'Time': {'time': '1:25.982'}, 'AverageSpeed': {'units': 'kph', 'speed': '222.032'}}}, {'number': '7', 'position': '7', 'positionText': '7', 'points': '2', 'Driver': {'driverId': 'trulli', 'code': 'TRU', 'url': 'http://en.wikipedia.org/wiki/Jarno_Trulli', 'givenName': 'Jarno', 'familyName': 'Trulli', 'dateOfBirth': '1974-07-13', 'nationality': 'Italian'}, 'Constructor': {'constructorId': 'renault', 'url': 'http://en.wikipedia.org/wiki/Renault_in_Formula_One', 'name': 'Renault', 'nationality': 'French'}, 'grid': '9', 'laps': '57', 'status': '+1 Lap', 'FastestLap': {'rank': '9', 'lap': '9', 'Time': {'time': '1:26.275'}, 'AverageSpeed': {'units': 'kph', 'speed': '221.278'}}}, {'number': '5', 'position': '8', 'positionText': '8', 'points': '1', 'Driver': {'driverId': 'coulthard', 'code': 'COU', 'url': 'http://en.wikipedia.org/wiki/David_Coulthard', 'givenName': 'David', 'familyName': 'Coulthard', 'dateOfBirth': '1971-03-27', 'nationality': 'British'}, 'Constructor': {'constructorId': 'mclaren', 'url': 'http://en.wikipedia.org/wiki/McLaren', 'name': 'McLaren', 'nationality': 'British'}, 'grid': '12', 'laps': '57', 'status': '+1 Lap', 'FastestLap': {'rank': '11', 'lap': '13', 'Time': {'time': '1:26.328'}, 'AverageSpeed': {'units': 'kph', 'speed': '221.142'}}}, {'number': '10', 'position': '9', 'positionText': '9', 'points': '0', 'Driver': {'driverId': 'sato', 'code': 'SAT', 'url': 'http://en.wikipedia.org/wiki/Takuma_Sato', 'givenName': 'Takuma', 'familyName': 'Sato', 'dateOfBirth': '1977-01-28', 'nationality': 'Japanese'}, 'Constructor': {'constructorId': 'bar', 'url': 'http://en.wikipedia.org/wiki/British_American_Racing', 'name': 'BAR', 'nationality': 'British'}, 'grid': '7', 'laps': '57', 'status': '+1 Lap', 'FastestLap': {'rank': '8', 'lap': '43', 'Time': {'time': '1:26.077'}, 'AverageSpeed': {'units': 'kph', 'speed': '221.787'}}}, {'number': '11', 'position': '10', 'positionText': '10', 'points': '0', 'Driver': {'driverId': 'fisichella', 'code': 'FIS', 'url': 'http://en.wikipedia.org/wiki/Giancarlo_Fisichella', 'givenName': 'Giancarlo', 'familyName': 'Fisichella', 'dateOfBirth': '1973-01-14', 'nationality': 'Italian'}, 'Constructor': {'constructorId': 'sauber', 'url': 'http://en.wikipedia.org/wiki/Sauber', 'name': 'Sauber', 'nationality': 'Swiss'}, 'grid': '14', 'laps': '57', 'status': '+1 Lap', 'FastestLap': {'rank': '10', 'lap': '39', 'Time': {'time': '1:26.282'}, 'AverageSpeed': {'units': 'kph', 'speed': '221.260'}}}, {'number': '15', 'position': '11', 'positionText': '11', 'points': '0', 'Driver': {'driverId': 'klien', 'code': 'KLI', 'url': 'http://en.wikipedia.org/wiki/Christian_Klien', 'givenName': 'Christian', 'familyName': 'Klien', 'dateOfBirth': '1983-02-07', 'nationality': 'Austrian'}, 'Constructor': {'constructorId': 'jaguar', 'url': 'http://en.wikipedia.org/wiki/Jaguar_Racing', 'name': 'Jaguar', 'nationality': 'British'}, 'grid': '19', 'laps': '56', 'status': '+2 Laps', 'FastestLap': {'rank': '16', 'lap': '6', 'Time': {'time': '1:27.840'}, 'AverageSpeed': {'units': 'kph', 'speed': '217.336'}}}, {'number': '16', 'position': '12', 'positionText': '12', 'points': '0', 'Driver': {'driverId': 'matta', 'url': 'http://en.wikipedia.org/wiki/Cristiano_da_Matta', 'givenName': 'Cristiano', 'familyName': 'da Matta', 'dateOfBirth': '1973-09-19', 'nationality': 'Brazilian'}, 'Constructor': {'constructorId': 'toyota', 'url': 'http://en.wikipedia.org/wiki/Toyota_Racing', 'name': 'Toyota', 'nationality': 'Japanese'}, 'grid': '13', 'laps': '56', 'status': '+2 Laps', 'FastestLap': {'rank': '15', 'lap': '41', 'Time': {'time': '1:27.820'}, 'AverageSpeed': {'units': 'kph', 'speed': '217.385'}}}, {'number': '17', 'position': '13', 'positionText': '13', 'points': '0', 'Driver': {'driverId': 'panis', 'url': 'http://en.wikipedia.org/wiki/Olivier_Panis', 'givenName': 'Olivier', 'familyName': 'Panis', 'dateOfBirth': '1966-09-02', 'nationality': 'French'}, 'Constructor': {'constructorId': 'toyota', 'url': 'http://en.wikipedia.org/wiki/Toyota_Racing', 'name': 'Toyota', 'nationality': 'Japanese'}, 'grid': '18', 'laps': '56', 'status': '+2 Laps', 'FastestLap': {'rank': '14', 'lap': '35', 'Time': {'time': '1:27.807'}, 'AverageSpeed': {'units': 'kph', 'speed': '217.417'}}}, {'number': '19', 'position': '14', 'positionText': '14', 'points': '0', 'Driver': {'driverId': 'pantano', 'url': 'http://en.wikipedia.org/wiki/Giorgio_Pantano', 'givenName': 'Giorgio', 'familyName': 'Pantano', 'dateOfBirth': '1979-02-04', 'nationality': 'Italian'}, 'Constructor': {'constructorId': 'jordan', 'url': 'http://en.wikipedia.org/wiki/Jordan_Grand_Prix', 'name': 'Jordan', 'nationality': 'Irish'}, 'grid': '16', 'laps': '55', 'status': '+3 Laps', 'FastestLap': {'rank': '18', 'lap': '15', 'Time': {'time': '1:28.523'}, 'AverageSpeed': {'units': 'kph', 'speed': '215.659'}}}, {'number': '12', 'position': '15', 'positionText': 'R', 'points': '0', 'Driver': {'driverId': 'massa', 'permanentNumber': '19', 'code': 'MAS', 'url': 'http://en.wikipedia.org/wiki/Felipe_Massa', 'givenName': 'Felipe', 'familyName': 'Massa', 'dateOfBirth': '1981-04-25', 'nationality': 'Brazilian'}, 'Constructor': {'constructorId': 'sauber', 'url': 'http://en.wikipedia.org/wiki/Sauber', 'name': 'Sauber', 'nationality': 'Swiss'}, 'grid': '11', 'laps': '44', 'status': 'Engine', 'FastestLap': {'rank': '12', 'lap': '11', 'Time': {'time': '1:26.846'}, 'AverageSpeed': {'units': 'kph', 'speed': '219.823'}}}, {'number': '18', 'position': '16', 'positionText': 'R', 'points': '0', 'Driver': {'driverId': 'heidfeld', 'code': 'HEI', 'url': 'http://en.wikipedia.org/wiki/Nick_Heidfeld', 'givenName': 'Nick', 'familyName': 'Heidfeld', 'dateOfBirth': '1977-05-10', 'nationality': 'German'}, 'Constructor': {'constructorId': 'jordan', 'url': 'http://en.wikipedia.org/wiki/Jordan_Grand_Prix', 'name': 'Jordan', 'nationality': 'Irish'}, 'grid': '15', 'laps': '43', 'status': 'Transmission', 'FastestLap': {'rank': '13', 'lap': '27', 'Time': {'time': '1:27.503'}, 'AverageSpeed': {'units': 'kph', 'speed': '218.173'}}}, {'number': '20', 'position': '17', 'positionText': 'N', 'points': '0', 'Driver': {'driverId': 'bruni', 'url': 'http://en.wikipedia.org/wiki/Gianmaria_Bruni', 'givenName': 'Gianmaria', 'familyName': 'Bruni', 'dateOfBirth': '1981-05-30', 'nationality': 'Italian'}, 'Constructor': {'constructorId': 'minardi', 'url': 'http://en.wikipedia.org/wiki/Minardi', 'name': 'Minardi', 'nationality': 'Italian'}, 'grid': '20', 'laps': '43', 'status': 'Not classified', 'FastestLap': {'rank': '19', 'lap': '10', 'Time': {'time': '1:30.161'}, 'AverageSpeed': {'units': 'kph', 'speed': '211.741'}}}, {'number': '14', 'position': '18', 'positionText': 'R', 'points': '0', 'Driver': {'driverId': 'webber', 'code': 'WEB', 'url': 'http://en.wikipedia.org/wiki/Mark_Webber_(racing_driver)', 'givenName': 'Mark', 'familyName': 'Webber', 'dateOfBirth': '1976-08-27', 'nationality': 'Australian'}, 'Constructor': {'constructorId': 'jaguar', 'url': 'http://en.wikipedia.org/wiki/Jaguar_Racing', 'name': 'Jaguar', 'nationality': 'British'}, 'grid': '6', 'laps': '29', 'status': 'Transmission', 'FastestLap': {'rank': '6', 'lap': '15', 'Time': {'time': '1:25.952'}, 'AverageSpeed': {'units': 'kph', 'speed': '222.110'}}}, {'number': '21', 'position': '19', 'positionText': 'R', 'points': '0', 'Driver': {'driverId': 'baumgartner', 'url': 'http://en.wikipedia.org/wiki/Zsolt_Baumgartner', 'givenName': 'Zsolt', 'familyName': 'Baumgartner', 'dateOfBirth': '1981-01-01', 'nationality': 'Hungarian'}, 'Constructor': {'constructorId': 'minardi', 'url': 'http://en.wikipedia.org/wiki/Minardi', 'name': 'Minardi', 'nationality': 'Italian'}, 'grid': '17', 'laps': '13', 'status': 'Electrical', 'FastestLap': {'rank': '20', 'lap': '8', 'Time': {'time': '1:30.621'}, 'AverageSpeed': {'units': 'kph', 'speed': '210.666'}}}, {'number': '6', 'position': '20', 'positionText': 'R', 'points': '0', 'Driver': {'driverId': 'raikkonen', 'permanentNumber': '7', 'code': 'RAI', 'url': 'http://en.wikipedia.org/wiki/Kimi_R%C3%A4ikk%C3%B6nen', 'givenName': 'Kimi', 'familyName': 'Räikkönen', 'dateOfBirth': '1979-10-17', 'nationality': 'Finnish'}, 'Constructor': {'constructorId': 'mclaren', 'url': 'http://en.wikipedia.org/wiki/McLaren', 'name': 'McLaren', 'nationality': 'British'}, 'grid': '10', 'laps': '9', 'status': 'Engine', 'FastestLap': {'rank': '17', 'lap': '7', 'Time': {'time': '1:27.936'}, 'AverageSpeed': {'units': 'kph', 'speed': '217.098'}}}]}]}\n"
     ]
    }
   ],
   "source": [
    "for k,v in actual_data.items():\n",
    "    print(k, ': ',v)"
   ]
  },
  {
   "cell_type": "code",
   "execution_count": 63,
   "metadata": {},
   "outputs": [],
   "source": [
    "race_data=actual_data['RaceTable']"
   ]
  },
  {
   "cell_type": "code",
   "execution_count": 64,
   "metadata": {},
   "outputs": [
    {
     "data": {
      "text/plain": [
       "dict_keys(['season', 'round', 'Races'])"
      ]
     },
     "execution_count": 64,
     "metadata": {},
     "output_type": "execute_result"
    }
   ],
   "source": [
    "race_data.keys()"
   ]
  },
  {
   "cell_type": "markdown",
   "metadata": {},
   "source": [
    "# How we can convert  aJson data into Python object rather dict or list"
   ]
  },
  {
   "cell_type": "code",
   "execution_count": 65,
   "metadata": {},
   "outputs": [],
   "source": [
    "json_data='{\"name\":\"MISY\", \"code\":3871, \"section\":1}'\n",
    "\n",
    "#First define a class to declare a tempalte to genertae object\n",
    "class JSONObject:\n",
    "    def __init__(self,d):\n",
    "        self.__dict__= d\n",
    "        \n",
    "data=json.loads(json_data,object_hook=JSONObject)\n",
    "        "
   ]
  },
  {
   "cell_type": "code",
   "execution_count": 66,
   "metadata": {},
   "outputs": [
    {
     "data": {
      "text/plain": [
       "'MISY'"
      ]
     },
     "execution_count": 66,
     "metadata": {},
     "output_type": "execute_result"
    }
   ],
   "source": [
    "data.name"
   ]
  },
  {
   "cell_type": "code",
   "execution_count": 67,
   "metadata": {},
   "outputs": [
    {
     "data": {
      "text/plain": [
       "3871"
      ]
     },
     "execution_count": 67,
     "metadata": {},
     "output_type": "execute_result"
    }
   ],
   "source": [
    "data.code"
   ]
  },
  {
   "cell_type": "code",
   "execution_count": 68,
   "metadata": {},
   "outputs": [
    {
     "data": {
      "text/plain": [
       "1"
      ]
     },
     "execution_count": 68,
     "metadata": {},
     "output_type": "execute_result"
    }
   ],
   "source": [
    "data.section"
   ]
  },
  {
   "cell_type": "code",
   "execution_count": 69,
   "metadata": {},
   "outputs": [
    {
     "data": {
      "text/plain": [
       "__main__.JSONObject"
      ]
     },
     "execution_count": 69,
     "metadata": {},
     "output_type": "execute_result"
    }
   ],
   "source": [
    "type(data)"
   ]
  },
  {
   "cell_type": "code",
   "execution_count": 70,
   "metadata": {},
   "outputs": [
    {
     "ename": "TypeError",
     "evalue": "Object of type JSONObject is not JSON serializable",
     "output_type": "error",
     "traceback": [
      "\u001b[1;31m---------------------------------------------------------------------------\u001b[0m",
      "\u001b[1;31mTypeError\u001b[0m                                 Traceback (most recent call last)",
      "\u001b[1;32m<ipython-input-70-1a1e9e534d4d>\u001b[0m in \u001b[0;36m<module>\u001b[1;34m\u001b[0m\n\u001b[1;32m----> 1\u001b[1;33m \u001b[0mjson\u001b[0m\u001b[1;33m.\u001b[0m\u001b[0mdumps\u001b[0m\u001b[1;33m(\u001b[0m\u001b[0mdata\u001b[0m\u001b[1;33m)\u001b[0m\u001b[1;33m\u001b[0m\u001b[1;33m\u001b[0m\u001b[0m\n\u001b[0m",
      "\u001b[1;32m~\\Anaconda3\\lib\\json\\__init__.py\u001b[0m in \u001b[0;36mdumps\u001b[1;34m(obj, skipkeys, ensure_ascii, check_circular, allow_nan, cls, indent, separators, default, sort_keys, **kw)\u001b[0m\n\u001b[0;32m    229\u001b[0m         \u001b[0mcls\u001b[0m \u001b[1;32mis\u001b[0m \u001b[1;32mNone\u001b[0m \u001b[1;32mand\u001b[0m \u001b[0mindent\u001b[0m \u001b[1;32mis\u001b[0m \u001b[1;32mNone\u001b[0m \u001b[1;32mand\u001b[0m \u001b[0mseparators\u001b[0m \u001b[1;32mis\u001b[0m \u001b[1;32mNone\u001b[0m \u001b[1;32mand\u001b[0m\u001b[1;33m\u001b[0m\u001b[1;33m\u001b[0m\u001b[0m\n\u001b[0;32m    230\u001b[0m         default is None and not sort_keys and not kw):\n\u001b[1;32m--> 231\u001b[1;33m         \u001b[1;32mreturn\u001b[0m \u001b[0m_default_encoder\u001b[0m\u001b[1;33m.\u001b[0m\u001b[0mencode\u001b[0m\u001b[1;33m(\u001b[0m\u001b[0mobj\u001b[0m\u001b[1;33m)\u001b[0m\u001b[1;33m\u001b[0m\u001b[1;33m\u001b[0m\u001b[0m\n\u001b[0m\u001b[0;32m    232\u001b[0m     \u001b[1;32mif\u001b[0m \u001b[0mcls\u001b[0m \u001b[1;32mis\u001b[0m \u001b[1;32mNone\u001b[0m\u001b[1;33m:\u001b[0m\u001b[1;33m\u001b[0m\u001b[1;33m\u001b[0m\u001b[0m\n\u001b[0;32m    233\u001b[0m         \u001b[0mcls\u001b[0m \u001b[1;33m=\u001b[0m \u001b[0mJSONEncoder\u001b[0m\u001b[1;33m\u001b[0m\u001b[1;33m\u001b[0m\u001b[0m\n",
      "\u001b[1;32m~\\Anaconda3\\lib\\json\\encoder.py\u001b[0m in \u001b[0;36mencode\u001b[1;34m(self, o)\u001b[0m\n\u001b[0;32m    197\u001b[0m         \u001b[1;31m# exceptions aren't as detailed.  The list call should be roughly\u001b[0m\u001b[1;33m\u001b[0m\u001b[1;33m\u001b[0m\u001b[1;33m\u001b[0m\u001b[0m\n\u001b[0;32m    198\u001b[0m         \u001b[1;31m# equivalent to the PySequence_Fast that ''.join() would do.\u001b[0m\u001b[1;33m\u001b[0m\u001b[1;33m\u001b[0m\u001b[1;33m\u001b[0m\u001b[0m\n\u001b[1;32m--> 199\u001b[1;33m         \u001b[0mchunks\u001b[0m \u001b[1;33m=\u001b[0m \u001b[0mself\u001b[0m\u001b[1;33m.\u001b[0m\u001b[0miterencode\u001b[0m\u001b[1;33m(\u001b[0m\u001b[0mo\u001b[0m\u001b[1;33m,\u001b[0m \u001b[0m_one_shot\u001b[0m\u001b[1;33m=\u001b[0m\u001b[1;32mTrue\u001b[0m\u001b[1;33m)\u001b[0m\u001b[1;33m\u001b[0m\u001b[1;33m\u001b[0m\u001b[0m\n\u001b[0m\u001b[0;32m    200\u001b[0m         \u001b[1;32mif\u001b[0m \u001b[1;32mnot\u001b[0m \u001b[0misinstance\u001b[0m\u001b[1;33m(\u001b[0m\u001b[0mchunks\u001b[0m\u001b[1;33m,\u001b[0m \u001b[1;33m(\u001b[0m\u001b[0mlist\u001b[0m\u001b[1;33m,\u001b[0m \u001b[0mtuple\u001b[0m\u001b[1;33m)\u001b[0m\u001b[1;33m)\u001b[0m\u001b[1;33m:\u001b[0m\u001b[1;33m\u001b[0m\u001b[1;33m\u001b[0m\u001b[0m\n\u001b[0;32m    201\u001b[0m             \u001b[0mchunks\u001b[0m \u001b[1;33m=\u001b[0m \u001b[0mlist\u001b[0m\u001b[1;33m(\u001b[0m\u001b[0mchunks\u001b[0m\u001b[1;33m)\u001b[0m\u001b[1;33m\u001b[0m\u001b[1;33m\u001b[0m\u001b[0m\n",
      "\u001b[1;32m~\\Anaconda3\\lib\\json\\encoder.py\u001b[0m in \u001b[0;36miterencode\u001b[1;34m(self, o, _one_shot)\u001b[0m\n\u001b[0;32m    255\u001b[0m                 \u001b[0mself\u001b[0m\u001b[1;33m.\u001b[0m\u001b[0mkey_separator\u001b[0m\u001b[1;33m,\u001b[0m \u001b[0mself\u001b[0m\u001b[1;33m.\u001b[0m\u001b[0mitem_separator\u001b[0m\u001b[1;33m,\u001b[0m \u001b[0mself\u001b[0m\u001b[1;33m.\u001b[0m\u001b[0msort_keys\u001b[0m\u001b[1;33m,\u001b[0m\u001b[1;33m\u001b[0m\u001b[1;33m\u001b[0m\u001b[0m\n\u001b[0;32m    256\u001b[0m                 self.skipkeys, _one_shot)\n\u001b[1;32m--> 257\u001b[1;33m         \u001b[1;32mreturn\u001b[0m \u001b[0m_iterencode\u001b[0m\u001b[1;33m(\u001b[0m\u001b[0mo\u001b[0m\u001b[1;33m,\u001b[0m \u001b[1;36m0\u001b[0m\u001b[1;33m)\u001b[0m\u001b[1;33m\u001b[0m\u001b[1;33m\u001b[0m\u001b[0m\n\u001b[0m\u001b[0;32m    258\u001b[0m \u001b[1;33m\u001b[0m\u001b[0m\n\u001b[0;32m    259\u001b[0m def _make_iterencode(markers, _default, _encoder, _indent, _floatstr,\n",
      "\u001b[1;32m~\\Anaconda3\\lib\\json\\encoder.py\u001b[0m in \u001b[0;36mdefault\u001b[1;34m(self, o)\u001b[0m\n\u001b[0;32m    177\u001b[0m \u001b[1;33m\u001b[0m\u001b[0m\n\u001b[0;32m    178\u001b[0m         \"\"\"\n\u001b[1;32m--> 179\u001b[1;33m         raise TypeError(f'Object of type {o.__class__.__name__} '\n\u001b[0m\u001b[0;32m    180\u001b[0m                         f'is not JSON serializable')\n\u001b[0;32m    181\u001b[0m \u001b[1;33m\u001b[0m\u001b[0m\n",
      "\u001b[1;31mTypeError\u001b[0m: Object of type JSONObject is not JSON serializable"
     ]
    }
   ],
   "source": []
  },
  {
   "cell_type": "code",
   "execution_count": 74,
   "metadata": {},
   "outputs": [
    {
     "name": "stdout",
     "output_type": "stream",
     "text": [
      "{\"name\": \"MISY\", \"code\": 3871, \"section\": 1}\n"
     ]
    }
   ],
   "source": [
    "data={'name':'MISY',\n",
    "     'code': 3871,\n",
    "     'section': 1\n",
    "     }\n",
    "\n",
    "print(json.dumps(data))"
   ]
  },
  {
   "cell_type": "code",
   "execution_count": 73,
   "metadata": {},
   "outputs": [
    {
     "name": "stdout",
     "output_type": "stream",
     "text": [
      "{\n",
      "    \"name\": \"MISY\",\n",
      "    \"code\": 3871,\n",
      "    \"section\": 1\n",
      "}\n"
     ]
    }
   ],
   "source": [
    "print(json.dumps(data,indent=4))"
   ]
  },
  {
   "cell_type": "markdown",
   "metadata": {},
   "source": [
    "# Parsing Simple XML Data"
   ]
  },
  {
   "cell_type": "markdown",
   "metadata": {},
   "source": [
    "Module name to process the XLM documents is xml.etree.ElementTree"
   ]
  },
  {
   "cell_type": "code",
   "execution_count": 2,
   "metadata": {},
   "outputs": [],
   "source": [
    "from urllib.request import urlopen\n",
    "from xml.etree.ElementTree import parse\n",
    "#Dowload the RSS feed and Parase it.\n",
    "url=urlopen('https://planetpython.org/rss20.xml')\n",
    "#then parse this feed\n",
    "document=parse(url)"
   ]
  },
  {
   "cell_type": "code",
   "execution_count": 5,
   "metadata": {},
   "outputs": [
    {
     "name": "stdout",
     "output_type": "stream",
     "text": [
      "Python Morsels: What is an iterator?\n",
      "Mon, 14 Mar 2022 15:00:00 +0000\n",
      "https://www.pythonmorsels.com/what-is-an-iterator/\n",
      "Kushal Das: Targeted WebID for privacy in Solid\n",
      "Mon, 14 Mar 2022 14:31:48 +0000\n",
      "https://kushaldas.in/posts/targeted-webid-for-privacy-in-solid.html\n",
      "Real Python: Python Class Constructors: Control Your Object Instantiation\n",
      "Mon, 14 Mar 2022 14:00:00 +0000\n",
      "https://realpython.com/python-class-constructor/\n",
      "Mike Driscoll: PyDev of the Week: Jessica Greene\n",
      "Mon, 14 Mar 2022 12:30:44 +0000\n",
      "https://www.blog.pythonlibrary.org/2022/03/14/pydev-of-the-week-jessica-greene/\n",
      "Python Software Foundation: The Pi-thon 2022 PSF Spring Fundraiser!\n",
      "Mon, 14 Mar 2022 11:59:43 +0000\n",
      "http://pyfound.blogspot.com/2022/03/the-pi-thon-2022-psf-spring-fundraiser.html\n",
      "Talk Python to Me: #356: Tips for ML / AI startups\n",
      "Mon, 14 Mar 2022 08:00:00 +0000\n",
      "https://talkpython.fm/episodes/show/356/tips-for-ml-ai-startups\n",
      "Matthew Wright: Analyzing intraday and overnight stock returns with pandas\n",
      "Mon, 14 Mar 2022 01:38:14 +0000\n",
      "https://www.wrighters.io/analyzing-intraday-and-overnight-stock-returns-with-pandas/\n",
      "Podcast.__init__: Run Your Applications Reliably On Kubernetes Without Losing Sleep With Robust\n",
      "Mon, 14 Mar 2022 01:12:04 +0000\n",
      "https://www.pythonpodcast.com/robusta-kubernetes-application-maintenance-episode-356/\n",
      "Ionel Cristian Maries: How to run uWSGI\n",
      "Sun, 13 Mar 2022 22:00:00 +0000\n",
      "https://blog.ionelmc.ro/2022/03/14/how-to-run-uwsgi/\n",
      "Ned Batchelder: Dinghy digests\n",
      "Sun, 13 Mar 2022 11:29:40 +0000\n",
      "https://nedbatchelder.com/blog/202203/dinghy_digests.html\n",
      "Brett Cannon: Unravelling Python's classes\n",
      "Sat, 12 Mar 2022 19:07:40 +0000\n",
      "https://snarky.ca/unravelling-pythons-classes/\n",
      "Mike C. Fletcher: Go Lang Impressions after 2 Months\n",
      "Sat, 12 Mar 2022 14:19:29 +0000\n",
      "http://blog.vrplumber.com/b/2022/03/12/go-lang-impressions-after-2-months/\n",
      "Daniel Roy Greenfeld: Pip Installing Dependencies Into Conda Envs\n",
      "Fri, 11 Mar 2022 22:20:50 +0000\n",
      "https://daniel.feldroy.com/posts/2022-03-11-pip-installing-dependencies-into-conda-envs\n",
      "Python for Beginners: Append a New Row in a Dataframe in Python\n",
      "Fri, 11 Mar 2022 15:43:12 +0000\n",
      "https://www.pythonforbeginners.com/basics/append-a-new-row-in-a-dataframe-in-python\n",
      "Real Python: The Real Python Podcast – Episode #101: Tools for Setting Up Python on a New Machine\n",
      "Fri, 11 Mar 2022 12:00:00 +0000\n",
      "https://realpython.com/podcasts/rpp/101/\n",
      "ItsMyCode: [Solved] Importerror: libgl.so.1: cannot open shared object file: no such file or directory\n",
      "Thu, 10 Mar 2022 06:36:40 +0000\n",
      "https://itsmycode.com/importerror-libgl-so-1-cannot-open-shared-object-file-no-such-file-or-directory/\n",
      "Fabio Zadrozny: PyDev 9.3.0 (debugger improvements / last version with Python 2.7 - 3.5 support)\n",
      "Thu, 10 Mar 2022 06:13:59 +0000\n",
      "http://pydev.blogspot.com/2022/03/pydev-930-debugger-improvements-last.html\n",
      "Matt Layman: Security And Django\n",
      "Thu, 10 Mar 2022 00:00:00 +0000\n",
      "https://www.mattlayman.com/understand-django/secure-apps/\n",
      "Read the Docs: Read the Docs newsletter - March 2022\n",
      "Thu, 10 Mar 2022 00:00:00 +0000\n",
      "https://blog.readthedocs.com/newsletter-march-2022/\n",
      "Stack Abuse: Graphs in Python: Minimum Spanning Trees - Kruskal's Algorithm\n",
      "Wed, 09 Mar 2022 19:02:00 +0000\n",
      "https://stackabuse.com/graphs-in-python-minimum-spanning-trees-kruskals-algorithm/\n",
      "Python Morsels: Python Built-in Functions To Know\n",
      "Wed, 09 Mar 2022 16:00:00 +0000\n",
      "https://www.pythonmorsels.com/built-in-functions-in-python/\n",
      "Real Python: Python 3.11 Preview: Even Better Error Messages\n",
      "Wed, 09 Mar 2022 14:00:00 +0000\n",
      "https://realpython.com/python311-error-messages/\n",
      "Python for Beginners: Empty a Dictionary in Python\n",
      "Wed, 09 Mar 2022 14:00:00 +0000\n",
      "https://www.pythonforbeginners.com/basics/empty-a-dictionary-in-python\n",
      "Python Bytes: #274 12 Questions You Should Be Asking of Your Dependencies\n",
      "Wed, 09 Mar 2022 08:00:00 +0000\n",
      "https://pythonbytes.fm/episodes/show/274/12-questions-you-should-be-asking-of-your-dependencies\n",
      "PyCoder’s Weekly: Issue #515 (March 8, 2022)\n",
      "Tue, 08 Mar 2022 19:30:00 +0000\n",
      "https://pycoders.com/issues/515\n"
     ]
    }
   ],
   "source": [
    "#Extracting and output tags of interest from the document\n",
    "for item in document.iterfind('channel/item'):\n",
    "    title=item.findtext('title')\n",
    "    pubDate=item.findtext('pubDate')\n",
    "    link=item.findtext('link')\n",
    "    print(title)\n",
    "    print(pubDate)\n",
    "    print(link) "
   ]
  },
  {
   "cell_type": "code",
   "execution_count": 6,
   "metadata": {},
   "outputs": [
    {
     "data": {
      "text/plain": [
       "<Element 'title' at 0x000000BF619A59F8>"
      ]
     },
     "execution_count": 6,
     "metadata": {},
     "output_type": "execute_result"
    }
   ],
   "source": [
    "#u se of find() method over document object\n",
    "e=document.find('channel/title')\n",
    "e"
   ]
  },
  {
   "cell_type": "code",
   "execution_count": 7,
   "metadata": {},
   "outputs": [
    {
     "data": {
      "text/plain": [
       "'title'"
      ]
     },
     "execution_count": 7,
     "metadata": {},
     "output_type": "execute_result"
    }
   ],
   "source": [
    "e.tag"
   ]
  },
  {
   "cell_type": "code",
   "execution_count": 8,
   "metadata": {},
   "outputs": [
    {
     "data": {
      "text/plain": [
       "'Planet Python'"
      ]
     },
     "execution_count": 8,
     "metadata": {},
     "output_type": "execute_result"
    }
   ],
   "source": [
    "e.text"
   ]
  },
  {
   "cell_type": "code",
   "execution_count": 9,
   "metadata": {},
   "outputs": [],
   "source": [
    "e.get('some_attribute_name')"
   ]
  },
  {
   "cell_type": "markdown",
   "metadata": {},
   "source": [
    "For parsing XML Files ElementTree module is not the only ption for you.\n",
    "You might consider to use __lxml__ module.You only need to change previous import statement to following."
   ]
  },
  {
   "cell_type": "code",
   "execution_count": 10,
   "metadata": {},
   "outputs": [],
   "source": [
    "#Insteda of following import\n",
    "#from xml.etree.ElementTree import parse\n",
    "#use this version\n",
    "from lxml.etree import parse\n",
    "from xml.etree.ElementTree import iterparse\n",
    "iterparse?\n"
   ]
  },
  {
   "cell_type": "code",
   "execution_count": 11,
   "metadata": {},
   "outputs": [],
   "source": [
    "def parse_and_remove(filename,path):\n",
    "    path_parts=path.split('/')\n",
    "    document=iterparse(filename,events=('start','end'))\n",
    "    #skip the root element\n",
    "    next(document)\n",
    "    \n",
    "    tags=[]\n",
    "    elements=[]\n",
    "    for event, element in document:\n",
    "        if event=='start':\n",
    "            tags.append(element.tag)\n",
    "            elements.append(element)\n",
    "        elif event=='end':\n",
    "            if tags==path_parts:\n",
    "                yield element\n",
    "                elements[-2].remove[element]\n",
    "            try:\n",
    "                tags.pop()\n",
    "                elements.pop()\n",
    "            except IndexError:\n",
    "                pass          \n",
    "        "
   ]
  },
  {
   "cell_type": "code",
   "execution_count": 22,
   "metadata": {},
   "outputs": [],
   "source": [
    "#Suppose you want to write a script that ranks employyees by the id numbers.\n",
    "#let us do it together\n",
    "from collections import Counter\n",
    "employees_by_id=Counter()\n",
    "\n",
    "data=parse_and_remove('employee.xml','root/row')\n",
    "for employee in data:\n",
    "    print(employee.findtext('id'))\n",
    "    employees_by_id[employee.findtext('id')]+=1\n",
    "    \n",
    "for eid, num in employees_by_id.most_common():\n",
    "    print(eid,num)   "
   ]
  },
  {
   "cell_type": "code",
   "execution_count": 23,
   "metadata": {},
   "outputs": [
    {
     "data": {
      "text/plain": [
       "<generator object parse_and_remove at 0x000000BF64255C48>"
      ]
     },
     "execution_count": 23,
     "metadata": {},
     "output_type": "execute_result"
    }
   ],
   "source": [
    "data"
   ]
  },
  {
   "cell_type": "code",
   "execution_count": 25,
   "metadata": {},
   "outputs": [
    {
     "name": "stdout",
     "output_type": "stream",
     "text": [
      "None\n",
      "None\n",
      "None\n",
      "None\n",
      "None\n",
      "None\n",
      "None\n",
      "None\n",
      "None\n",
      "None\n",
      "None\n",
      "None\n",
      "None\n",
      "None\n",
      "None\n",
      "None\n",
      "None\n",
      "None\n",
      "None\n",
      "None\n",
      "None\n",
      "None\n",
      "None\n",
      "None\n",
      "None\n",
      "None\n",
      "None\n",
      "None\n",
      "None\n",
      "None\n",
      "None\n",
      "None\n",
      "None\n",
      "None\n",
      "None\n",
      "None\n",
      "None\n",
      "None\n",
      "None\n",
      "None\n",
      "None\n",
      "None\n",
      "None\n",
      "None\n",
      "None\n",
      "None\n",
      "None\n",
      "None\n",
      "None\n",
      "None\n",
      "None\n",
      "None\n",
      "None\n",
      "None\n",
      "None\n"
     ]
    }
   ],
   "source": []
  },
  {
   "cell_type": "markdown",
   "metadata": {},
   "source": [
    "# Turning Dictionary into XML File"
   ]
  },
  {
   "cell_type": "code",
   "execution_count": 32,
   "metadata": {},
   "outputs": [],
   "source": [
    "from xml.etree.ElementTree import Element\n",
    "#Write a function that convert given python dictionary to xml file\n",
    "def dict_to_xml(tag,dictionary):\n",
    "    elem=Element(tag)\n",
    "    for key, value in dictionary.items():\n",
    "        child=Element(key)\n",
    "        child.text=str(value)\n",
    "        elem.append(child)\n",
    "    return elem"
   ]
  },
  {
   "cell_type": "code",
   "execution_count": 33,
   "metadata": {},
   "outputs": [],
   "source": [
    "employee={'name':'Engin','surname':'Kandiran','age':32}\n",
    "e=dict_to_xml('record',employee)"
   ]
  },
  {
   "cell_type": "code",
   "execution_count": 34,
   "metadata": {},
   "outputs": [
    {
     "data": {
      "text/plain": [
       "<Element 'record' at 0x000000BF63F05958>"
      ]
     },
     "execution_count": 34,
     "metadata": {},
     "output_type": "execute_result"
    }
   ],
   "source": [
    "e"
   ]
  },
  {
   "cell_type": "code",
   "execution_count": 36,
   "metadata": {},
   "outputs": [],
   "source": [
    "from xml.etree.ElementTree import tostring"
   ]
  },
  {
   "cell_type": "code",
   "execution_count": 37,
   "metadata": {},
   "outputs": [
    {
     "data": {
      "text/plain": [
       "b'<record><name>Engin</name><surname>Kandiran</surname><age>32</age></record>'"
      ]
     },
     "execution_count": 37,
     "metadata": {},
     "output_type": "execute_result"
    }
   ],
   "source": [
    "tostring(e)"
   ]
  },
  {
   "cell_type": "code",
   "execution_count": 40,
   "metadata": {},
   "outputs": [
    {
     "name": "stdout",
     "output_type": "stream",
     "text": [
      "<record><name>Engin</name><surname>Kandiran</surname><age>32</age></record>\n"
     ]
    }
   ],
   "source": [
    "def dict_to_xml_str(tag,dictionary):\n",
    "    parts=['<{}>'.format(tag)]\n",
    "    for key,value in dictionary.items():\n",
    "        parts.append('<{0}>{1}</{0}>'.format(key,value))\n",
    "    parts.append('</{}>'.format(tag))\n",
    "    return ''.join(parts)\n",
    "\n",
    "e_str=dict_to_xml_str('record',employee)\n",
    "print(e_str)"
   ]
  },
  {
   "cell_type": "code",
   "execution_count": null,
   "metadata": {},
   "outputs": [],
   "source": []
  }
 ],
 "metadata": {
  "kernelspec": {
   "display_name": "Python 3",
   "language": "python",
   "name": "python3"
  },
  "language_info": {
   "codemirror_mode": {
    "name": "ipython",
    "version": 3
   },
   "file_extension": ".py",
   "mimetype": "text/x-python",
   "name": "python",
   "nbconvert_exporter": "python",
   "pygments_lexer": "ipython3",
   "version": "3.7.6"
  }
 },
 "nbformat": 4,
 "nbformat_minor": 4
}
